{
 "cells": [
  {
   "cell_type": "markdown",
   "id": "1ca4e8b4",
   "metadata": {},
   "source": [
    "# POSTTEST 8 - Modul Deep Learning\n",
    "#### Nama : Jorghi Inzaghi Tanson\n",
    "#### NIM    : 2009106069"
   ]
  },
  {
   "cell_type": "markdown",
   "id": "70f22b6b",
   "metadata": {},
   "source": [
    "#### Import Library yang diperlukan"
   ]
  },
  {
   "cell_type": "code",
   "execution_count": 1,
   "id": "8b7f41e9",
   "metadata": {},
   "outputs": [],
   "source": [
    "import pandas as pd\n",
    "import matplotlib.pyplot as plt\n",
    "import tensorflow as tf\n",
    "from sklearn.preprocessing import OrdinalEncoder\n",
    "from sklearn.model_selection import train_test_split"
   ]
  },
  {
   "cell_type": "markdown",
   "id": "7ed0cb8d",
   "metadata": {},
   "source": [
    "#### Inisialisasi variabel untuk menampung dataset menggunakan DataFrame dan tampilkan isi variabel"
   ]
  },
  {
   "cell_type": "code",
   "execution_count": 2,
   "id": "ca8ad2cc",
   "metadata": {},
   "outputs": [
    {
     "name": "stdout",
     "output_type": "stream",
     "text": [
      "<class 'pandas.core.frame.DataFrame'>\n",
      "RangeIndex: 921 entries, 0 to 920\n",
      "Data columns (total 12 columns):\n",
      " #   Column          Non-Null Count  Dtype  \n",
      "---  ------          --------------  -----  \n",
      " 0   Age             921 non-null    int64  \n",
      " 1   Sex             921 non-null    object \n",
      " 2   ChestPainType   921 non-null    object \n",
      " 3   RestingBP       921 non-null    int64  \n",
      " 4   Cholesterol     921 non-null    int64  \n",
      " 5   FastingBS       921 non-null    int64  \n",
      " 6   RestingECG      921 non-null    object \n",
      " 7   MaxHR           921 non-null    int64  \n",
      " 8   ExerciseAngina  921 non-null    object \n",
      " 9   Oldpeak         921 non-null    float64\n",
      " 10  ST_Slope        921 non-null    object \n",
      " 11  HeartDisease    921 non-null    object \n",
      "dtypes: float64(1), int64(5), object(6)\n",
      "memory usage: 86.5+ KB\n"
     ]
    }
   ],
   "source": [
    "dFrame = pd.read_csv('heart_cleaned.csv')\n",
    "dFrame.info()"
   ]
  },
  {
   "cell_type": "markdown",
   "id": "cb9e1388",
   "metadata": {},
   "source": [
    "#### Pada dataset, terlihat bahwa terdapat nilai dengan tipe data objek. Jika terdapat tipe data tersebut, maka proses pelatihan data akan terganggu, sehingga menimbulkan error. Maka dari itu, perlu dilakukan preprocessing data. Di sini saya mencoba menggunakan Encoding untuk mengganti nilai-nilai bertipe data objek menjadi tipe data angka"
   ]
  },
  {
   "cell_type": "code",
   "execution_count": 3,
   "id": "9f8431db",
   "metadata": {},
   "outputs": [],
   "source": [
    "varEncoder = OrdinalEncoder()\n",
    "dFrame['Sex'] = varEncoder.fit_transform(dFrame[['Sex']])\n",
    "dFrame['ChestPainType'] = varEncoder.fit_transform(dFrame[['ChestPainType']])\n",
    "dFrame['RestingECG'] = varEncoder.fit_transform(dFrame[['RestingECG']])\n",
    "dFrame['ExerciseAngina'] = varEncoder.fit_transform(dFrame[['ExerciseAngina']])\n",
    "dFrame['ST_Slope'] = varEncoder.fit_transform(dFrame[['ST_Slope']])\n",
    "dFrame['HeartDisease'] = varEncoder.fit_transform(dFrame[['HeartDisease']])"
   ]
  },
  {
   "cell_type": "markdown",
   "id": "3afed906",
   "metadata": {},
   "source": [
    "#### Tampilkan dataset hasil encoding"
   ]
  },
  {
   "cell_type": "code",
   "execution_count": 4,
   "id": "b5945852",
   "metadata": {},
   "outputs": [
    {
     "data": {
      "text/html": [
       "<div>\n",
       "<style scoped>\n",
       "    .dataframe tbody tr th:only-of-type {\n",
       "        vertical-align: middle;\n",
       "    }\n",
       "\n",
       "    .dataframe tbody tr th {\n",
       "        vertical-align: top;\n",
       "    }\n",
       "\n",
       "    .dataframe thead th {\n",
       "        text-align: right;\n",
       "    }\n",
       "</style>\n",
       "<table border=\"1\" class=\"dataframe\">\n",
       "  <thead>\n",
       "    <tr style=\"text-align: right;\">\n",
       "      <th></th>\n",
       "      <th>Age</th>\n",
       "      <th>Sex</th>\n",
       "      <th>ChestPainType</th>\n",
       "      <th>RestingBP</th>\n",
       "      <th>Cholesterol</th>\n",
       "      <th>FastingBS</th>\n",
       "      <th>RestingECG</th>\n",
       "      <th>MaxHR</th>\n",
       "      <th>ExerciseAngina</th>\n",
       "      <th>Oldpeak</th>\n",
       "      <th>ST_Slope</th>\n",
       "      <th>HeartDisease</th>\n",
       "    </tr>\n",
       "  </thead>\n",
       "  <tbody>\n",
       "    <tr>\n",
       "      <th>0</th>\n",
       "      <td>40</td>\n",
       "      <td>1.0</td>\n",
       "      <td>1.0</td>\n",
       "      <td>140</td>\n",
       "      <td>289</td>\n",
       "      <td>0</td>\n",
       "      <td>1.0</td>\n",
       "      <td>172</td>\n",
       "      <td>0.0</td>\n",
       "      <td>0.000000</td>\n",
       "      <td>2.0</td>\n",
       "      <td>0.0</td>\n",
       "    </tr>\n",
       "    <tr>\n",
       "      <th>1</th>\n",
       "      <td>49</td>\n",
       "      <td>0.0</td>\n",
       "      <td>2.0</td>\n",
       "      <td>160</td>\n",
       "      <td>180</td>\n",
       "      <td>0</td>\n",
       "      <td>1.0</td>\n",
       "      <td>156</td>\n",
       "      <td>0.0</td>\n",
       "      <td>1.000000</td>\n",
       "      <td>1.0</td>\n",
       "      <td>1.0</td>\n",
       "    </tr>\n",
       "    <tr>\n",
       "      <th>2</th>\n",
       "      <td>37</td>\n",
       "      <td>1.0</td>\n",
       "      <td>1.0</td>\n",
       "      <td>130</td>\n",
       "      <td>283</td>\n",
       "      <td>0</td>\n",
       "      <td>2.0</td>\n",
       "      <td>98</td>\n",
       "      <td>0.0</td>\n",
       "      <td>0.000000</td>\n",
       "      <td>2.0</td>\n",
       "      <td>0.0</td>\n",
       "    </tr>\n",
       "    <tr>\n",
       "      <th>3</th>\n",
       "      <td>48</td>\n",
       "      <td>0.0</td>\n",
       "      <td>0.0</td>\n",
       "      <td>138</td>\n",
       "      <td>214</td>\n",
       "      <td>0</td>\n",
       "      <td>1.0</td>\n",
       "      <td>108</td>\n",
       "      <td>1.0</td>\n",
       "      <td>1.500000</td>\n",
       "      <td>1.0</td>\n",
       "      <td>1.0</td>\n",
       "    </tr>\n",
       "    <tr>\n",
       "      <th>4</th>\n",
       "      <td>54</td>\n",
       "      <td>1.0</td>\n",
       "      <td>2.0</td>\n",
       "      <td>150</td>\n",
       "      <td>195</td>\n",
       "      <td>0</td>\n",
       "      <td>1.0</td>\n",
       "      <td>122</td>\n",
       "      <td>0.0</td>\n",
       "      <td>0.000000</td>\n",
       "      <td>2.0</td>\n",
       "      <td>0.0</td>\n",
       "    </tr>\n",
       "    <tr>\n",
       "      <th>...</th>\n",
       "      <td>...</td>\n",
       "      <td>...</td>\n",
       "      <td>...</td>\n",
       "      <td>...</td>\n",
       "      <td>...</td>\n",
       "      <td>...</td>\n",
       "      <td>...</td>\n",
       "      <td>...</td>\n",
       "      <td>...</td>\n",
       "      <td>...</td>\n",
       "      <td>...</td>\n",
       "      <td>...</td>\n",
       "    </tr>\n",
       "    <tr>\n",
       "      <th>916</th>\n",
       "      <td>57</td>\n",
       "      <td>0.0</td>\n",
       "      <td>1.0</td>\n",
       "      <td>130</td>\n",
       "      <td>236</td>\n",
       "      <td>0</td>\n",
       "      <td>0.0</td>\n",
       "      <td>174</td>\n",
       "      <td>0.0</td>\n",
       "      <td>0.000000</td>\n",
       "      <td>1.0</td>\n",
       "      <td>1.0</td>\n",
       "    </tr>\n",
       "    <tr>\n",
       "      <th>917</th>\n",
       "      <td>38</td>\n",
       "      <td>1.0</td>\n",
       "      <td>2.0</td>\n",
       "      <td>138</td>\n",
       "      <td>175</td>\n",
       "      <td>0</td>\n",
       "      <td>1.0</td>\n",
       "      <td>173</td>\n",
       "      <td>0.0</td>\n",
       "      <td>0.000000</td>\n",
       "      <td>2.0</td>\n",
       "      <td>0.0</td>\n",
       "    </tr>\n",
       "    <tr>\n",
       "      <th>918</th>\n",
       "      <td>45</td>\n",
       "      <td>1.0</td>\n",
       "      <td>3.0</td>\n",
       "      <td>110</td>\n",
       "      <td>223</td>\n",
       "      <td>0</td>\n",
       "      <td>1.0</td>\n",
       "      <td>132</td>\n",
       "      <td>0.0</td>\n",
       "      <td>1.200000</td>\n",
       "      <td>1.0</td>\n",
       "      <td>1.0</td>\n",
       "    </tr>\n",
       "    <tr>\n",
       "      <th>919</th>\n",
       "      <td>68</td>\n",
       "      <td>1.0</td>\n",
       "      <td>0.0</td>\n",
       "      <td>144</td>\n",
       "      <td>193</td>\n",
       "      <td>1</td>\n",
       "      <td>1.0</td>\n",
       "      <td>141</td>\n",
       "      <td>0.0</td>\n",
       "      <td>0.885157</td>\n",
       "      <td>1.0</td>\n",
       "      <td>1.0</td>\n",
       "    </tr>\n",
       "    <tr>\n",
       "      <th>920</th>\n",
       "      <td>57</td>\n",
       "      <td>1.0</td>\n",
       "      <td>0.0</td>\n",
       "      <td>130</td>\n",
       "      <td>223</td>\n",
       "      <td>0</td>\n",
       "      <td>1.0</td>\n",
       "      <td>115</td>\n",
       "      <td>1.0</td>\n",
       "      <td>0.885157</td>\n",
       "      <td>1.0</td>\n",
       "      <td>1.0</td>\n",
       "    </tr>\n",
       "  </tbody>\n",
       "</table>\n",
       "<p>921 rows × 12 columns</p>\n",
       "</div>"
      ],
      "text/plain": [
       "     Age  Sex  ChestPainType  RestingBP  Cholesterol  FastingBS  RestingECG  \\\n",
       "0     40  1.0            1.0        140          289          0         1.0   \n",
       "1     49  0.0            2.0        160          180          0         1.0   \n",
       "2     37  1.0            1.0        130          283          0         2.0   \n",
       "3     48  0.0            0.0        138          214          0         1.0   \n",
       "4     54  1.0            2.0        150          195          0         1.0   \n",
       "..   ...  ...            ...        ...          ...        ...         ...   \n",
       "916   57  0.0            1.0        130          236          0         0.0   \n",
       "917   38  1.0            2.0        138          175          0         1.0   \n",
       "918   45  1.0            3.0        110          223          0         1.0   \n",
       "919   68  1.0            0.0        144          193          1         1.0   \n",
       "920   57  1.0            0.0        130          223          0         1.0   \n",
       "\n",
       "     MaxHR  ExerciseAngina   Oldpeak  ST_Slope  HeartDisease  \n",
       "0      172             0.0  0.000000       2.0           0.0  \n",
       "1      156             0.0  1.000000       1.0           1.0  \n",
       "2       98             0.0  0.000000       2.0           0.0  \n",
       "3      108             1.0  1.500000       1.0           1.0  \n",
       "4      122             0.0  0.000000       2.0           0.0  \n",
       "..     ...             ...       ...       ...           ...  \n",
       "916    174             0.0  0.000000       1.0           1.0  \n",
       "917    173             0.0  0.000000       2.0           0.0  \n",
       "918    132             0.0  1.200000       1.0           1.0  \n",
       "919    141             0.0  0.885157       1.0           1.0  \n",
       "920    115             1.0  0.885157       1.0           1.0  \n",
       "\n",
       "[921 rows x 12 columns]"
      ]
     },
     "execution_count": 4,
     "metadata": {},
     "output_type": "execute_result"
    }
   ],
   "source": [
    "dFrame"
   ]
  },
  {
   "cell_type": "markdown",
   "id": "eeb84d2c",
   "metadata": {},
   "source": [
    "#### Tentukan atribut yang akan dijadikan sebagai record dan label. Di sini saya menggunakan istilah variabel independen untuk record dan variabel dependen untuk label"
   ]
  },
  {
   "cell_type": "code",
   "execution_count": 5,
   "id": "9f964724",
   "metadata": {},
   "outputs": [],
   "source": [
    "varIndependen = dFrame[['Age',\n",
    "                        'Sex',\n",
    "                        'ChestPainType',\n",
    "                        'RestingBP',\n",
    "                        'Cholesterol',\n",
    "                        'FastingBS',\n",
    "                        'RestingECG',\n",
    "                        'MaxHR',\n",
    "                        'ExerciseAngina',\n",
    "                        'Oldpeak',\n",
    "                        'ST_Slope']]\n",
    "varDependen = dFrame[['HeartDisease']]"
   ]
  },
  {
   "cell_type": "markdown",
   "id": "eef9dbe1",
   "metadata": {},
   "source": [
    "#### Bagi data train pada variabel independen menjadi data train dan data test. Di sini saya menggunakan proporsi 70:30 (70% Data train dan 30% Data test)"
   ]
  },
  {
   "cell_type": "code",
   "execution_count": 6,
   "id": "aa74decc",
   "metadata": {},
   "outputs": [],
   "source": [
    "xTrain, xTest, yTrain, yTest = train_test_split(varIndependen,\n",
    "                                                varDependen,\n",
    "                                                test_size=.3)"
   ]
  },
  {
   "cell_type": "markdown",
   "id": "d7bcca2a",
   "metadata": {},
   "source": [
    "#### Pada label yang telah ditentukan, lakukan proses konversi kelas vektor (bilangan integer) ke matriks kelas biner menggunakan fungsi utils pada library keras. Di sini saya menetapkan jumlah kelas sebesar 2 (sesuaikan dengan jumlah kelas yang dimiliki dataset)"
   ]
  },
  {
   "cell_type": "code",
   "execution_count": 7,
   "id": "49f0520c",
   "metadata": {},
   "outputs": [],
   "source": [
    "jumlahKelas = 2\n",
    "yTrain = tf.keras.utils.to_categorical(yTrain, jumlahKelas)\n",
    "yTest = tf.keras.utils.to_categorical(yTest, jumlahKelas)"
   ]
  },
  {
   "cell_type": "markdown",
   "id": "b39fb0cb",
   "metadata": {},
   "source": [
    "#### Buat model sequential dengan total layer sebanyak 5 layer menggunakan aktivasi relu pada 4 layer pertama dan aktivasi sigmoid pada layer terakhir, lalu tampilkan model tersebut dengan fungsi summary()"
   ]
  },
  {
   "cell_type": "code",
   "execution_count": 8,
   "id": "07d3b06c",
   "metadata": {},
   "outputs": [
    {
     "name": "stdout",
     "output_type": "stream",
     "text": [
      "Model: \"sequential\"\n",
      "_________________________________________________________________\n",
      " Layer (type)                Output Shape              Param #   \n",
      "=================================================================\n",
      " dense (Dense)               (None, 16)                192       \n",
      "                                                                 \n",
      " dense_1 (Dense)             (None, 32)                544       \n",
      "                                                                 \n",
      " dense_2 (Dense)             (None, 32)                1056      \n",
      "                                                                 \n",
      " dense_3 (Dense)             (None, 16)                528       \n",
      "                                                                 \n",
      " dense_4 (Dense)             (None, 2)                 34        \n",
      "                                                                 \n",
      "=================================================================\n",
      "Total params: 2,354\n",
      "Trainable params: 2,354\n",
      "Non-trainable params: 0\n",
      "_________________________________________________________________\n"
     ]
    }
   ],
   "source": [
    "modelSeq = tf.keras.Sequential([\n",
    "    tf.keras.layers.Dense(16, activation='relu', input_dim=11),\n",
    "    tf.keras.layers.Dense(32, activation='relu'),\n",
    "    tf.keras.layers.Dense(32, activation='relu'),\n",
    "    tf.keras.layers.Dense(16, activation='relu'),\n",
    "    tf.keras.layers.Dense(jumlahKelas, activation='sigmoid')\n",
    "])\n",
    "modelSeq.summary()"
   ]
  },
  {
   "cell_type": "markdown",
   "id": "8af58a0f",
   "metadata": {},
   "source": [
    "#### Lakukan proses compile terhadap model yang telah dibuat. Di sini saya menggunakan optimizer adam, loss jenis cross-entropy, dan metrics accuracy"
   ]
  },
  {
   "cell_type": "code",
   "execution_count": 9,
   "id": "e8199b31",
   "metadata": {},
   "outputs": [],
   "source": [
    "modelSeq.compile(\n",
    "    optimizer=tf.keras.optimizers.Adam(),\n",
    "    loss=tf.keras.losses.categorical_crossentropy,\n",
    "    metrics=['accuracy']\n",
    ")"
   ]
  },
  {
   "cell_type": "markdown",
   "id": "8086a318",
   "metadata": {},
   "source": [
    "#### Lakukan proses model training dengan cara fitting. Masukkan parameter yang diinginkan di dalam fungsi fitting tersebut. Di sini saya menggunakan parameter x dan y untuk menginput data training, validation data yang berisi data testing dari masing-masing variabel, epochs dengan jumlah 20 iterasi, steps_per_epoch dengan jumlah 46 langkah, dan verbose dengan jenis 2 yang berarti tidak menampilkan animasi steps_per_epoch"
   ]
  },
  {
   "cell_type": "code",
   "execution_count": 10,
   "id": "ffb7e1ff",
   "metadata": {
    "scrolled": false
   },
   "outputs": [
    {
     "name": "stdout",
     "output_type": "stream",
     "text": [
      "Epoch 1/20\n",
      "46/46 - 1s - loss: 0.6697 - accuracy: 0.6506 - val_loss: 0.8822 - val_accuracy: 0.5704 - 595ms/epoch - 13ms/step\n",
      "Epoch 2/20\n",
      "46/46 - 0s - loss: 0.7757 - accuracy: 0.6351 - val_loss: 0.6343 - val_accuracy: 0.6606 - 72ms/epoch - 2ms/step\n",
      "Epoch 3/20\n",
      "46/46 - 0s - loss: 0.6279 - accuracy: 0.6366 - val_loss: 0.7297 - val_accuracy: 0.6498 - 73ms/epoch - 2ms/step\n",
      "Epoch 4/20\n",
      "46/46 - 0s - loss: 0.6258 - accuracy: 0.6724 - val_loss: 0.6935 - val_accuracy: 0.6209 - 66ms/epoch - 1ms/step\n",
      "Epoch 5/20\n",
      "46/46 - 0s - loss: 0.5789 - accuracy: 0.6957 - val_loss: 0.5802 - val_accuracy: 0.7184 - 64ms/epoch - 1ms/step\n",
      "Epoch 6/20\n",
      "46/46 - 0s - loss: 0.5730 - accuracy: 0.6879 - val_loss: 0.5995 - val_accuracy: 0.7220 - 64ms/epoch - 1ms/step\n",
      "Epoch 7/20\n",
      "46/46 - 0s - loss: 0.5884 - accuracy: 0.6910 - val_loss: 0.6060 - val_accuracy: 0.6931 - 65ms/epoch - 1ms/step\n",
      "Epoch 8/20\n",
      "46/46 - 0s - loss: 0.5667 - accuracy: 0.7329 - val_loss: 0.5730 - val_accuracy: 0.7329 - 63ms/epoch - 1ms/step\n",
      "Epoch 9/20\n",
      "46/46 - 0s - loss: 0.5686 - accuracy: 0.7298 - val_loss: 0.6727 - val_accuracy: 0.6390 - 68ms/epoch - 1ms/step\n",
      "Epoch 10/20\n",
      "46/46 - 0s - loss: 0.5735 - accuracy: 0.7112 - val_loss: 0.5671 - val_accuracy: 0.7401 - 65ms/epoch - 1ms/step\n",
      "Epoch 11/20\n",
      "46/46 - 0s - loss: 0.5532 - accuracy: 0.7174 - val_loss: 0.5651 - val_accuracy: 0.7545 - 63ms/epoch - 1ms/step\n",
      "Epoch 12/20\n",
      "46/46 - 0s - loss: 0.5151 - accuracy: 0.7748 - val_loss: 0.5822 - val_accuracy: 0.7437 - 65ms/epoch - 1ms/step\n",
      "Epoch 13/20\n",
      "46/46 - 0s - loss: 0.5128 - accuracy: 0.7516 - val_loss: 0.5454 - val_accuracy: 0.7437 - 66ms/epoch - 1ms/step\n",
      "Epoch 14/20\n",
      "46/46 - 0s - loss: 0.5138 - accuracy: 0.7624 - val_loss: 0.5699 - val_accuracy: 0.7437 - 64ms/epoch - 1ms/step\n",
      "Epoch 15/20\n",
      "46/46 - 0s - loss: 0.5180 - accuracy: 0.7562 - val_loss: 0.5870 - val_accuracy: 0.7076 - 66ms/epoch - 1ms/step\n",
      "Epoch 16/20\n",
      "46/46 - 0s - loss: 0.5035 - accuracy: 0.7671 - val_loss: 0.5387 - val_accuracy: 0.7690 - 66ms/epoch - 1ms/step\n",
      "Epoch 17/20\n",
      "46/46 - 0s - loss: 0.4839 - accuracy: 0.7686 - val_loss: 0.5330 - val_accuracy: 0.7726 - 64ms/epoch - 1ms/step\n",
      "Epoch 18/20\n",
      "46/46 - 0s - loss: 0.4755 - accuracy: 0.7826 - val_loss: 0.5189 - val_accuracy: 0.7834 - 67ms/epoch - 1ms/step\n",
      "Epoch 19/20\n",
      "46/46 - 0s - loss: 0.4848 - accuracy: 0.7826 - val_loss: 0.5744 - val_accuracy: 0.7726 - 64ms/epoch - 1ms/step\n",
      "Epoch 20/20\n",
      "46/46 - 0s - loss: 0.4650 - accuracy: 0.8075 - val_loss: 0.5236 - val_accuracy: 0.7690 - 66ms/epoch - 1ms/step\n"
     ]
    }
   ],
   "source": [
    "trainingProcess = modelSeq.fit(\n",
    "    x = xTrain,\n",
    "    y = yTrain,\n",
    "    validation_data = (xTest, yTest),\n",
    "    epochs = 20,\n",
    "    steps_per_epoch = 46,\n",
    "    verbose = 2\n",
    ")"
   ]
  },
  {
   "cell_type": "markdown",
   "id": "6cdcf008",
   "metadata": {},
   "source": [
    "#### Simpan model yang telah dibuat"
   ]
  },
  {
   "cell_type": "code",
   "execution_count": 12,
   "id": "26f85a12",
   "metadata": {},
   "outputs": [],
   "source": [
    "modelSeq.save('model/seq_1.h5')"
   ]
  }
 ],
 "metadata": {
  "kernelspec": {
   "display_name": "Python 3 (ipykernel)",
   "language": "python",
   "name": "python3"
  },
  "language_info": {
   "codemirror_mode": {
    "name": "ipython",
    "version": 3
   },
   "file_extension": ".py",
   "mimetype": "text/x-python",
   "name": "python",
   "nbconvert_exporter": "python",
   "pygments_lexer": "ipython3",
   "version": "3.10.7"
  }
 },
 "nbformat": 4,
 "nbformat_minor": 5
}
