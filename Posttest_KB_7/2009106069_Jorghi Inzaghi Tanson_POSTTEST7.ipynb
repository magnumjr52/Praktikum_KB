{
 "cells": [
  {
   "cell_type": "markdown",
   "id": "7cad2ef7",
   "metadata": {},
   "source": [
    "# POSTTEST 7 - Modul Pengenalan TensorFlow\n",
    "#### Nama : Jorghi Inzaghi Tanson\n",
    "#### NIM    : 2009106069"
   ]
  },
  {
   "cell_type": "markdown",
   "id": "bc7afac1",
   "metadata": {},
   "source": [
    "##### Import library yang dibutuhkan"
   ]
  },
  {
   "cell_type": "code",
   "execution_count": 45,
   "id": "93d534fe",
   "metadata": {},
   "outputs": [],
   "source": [
    "import tensorflow as tf"
   ]
  },
  {
   "cell_type": "markdown",
   "id": "0d7f1054",
   "metadata": {},
   "source": [
    "#### 1) Buatlah sebuah tensor dengan shape(5,5) dengan nilai random yang disimpan dalam variable random_tensor dan tampilkan isinya"
   ]
  },
  {
   "cell_type": "code",
   "execution_count": 46,
   "id": "b0b2658a",
   "metadata": {},
   "outputs": [
    {
     "data": {
      "text/plain": [
       "<tf.Tensor: shape=(5, 5), dtype=float32, numpy=\n",
       "array([[ 0.5933604 , -0.35052463,  0.42444015,  0.20645753,  2.3339202 ],\n",
       "       [ 0.5887018 ,  0.63107646, -2.2573323 , -1.1637964 ,  0.4790582 ],\n",
       "       [-0.55197406, -0.03888295, -0.52864707,  0.2426774 ,  0.00829258],\n",
       "       [-0.31521624, -0.11524713, -1.0138263 ,  0.22795753, -0.95527774],\n",
       "       [-0.786682  , -1.0968654 ,  0.85248137, -1.4731542 , -0.09696788]],\n",
       "      dtype=float32)>"
      ]
     },
     "execution_count": 46,
     "metadata": {},
     "output_type": "execute_result"
    }
   ],
   "source": [
    "# Deklarasi variabel random_tensor untuk membuat tensor yang berisi nilai random gunakan fungsi tf.random.normal()\n",
    "\n",
    "random_tensor = tf.random.normal([5, 5])\n",
    "random_tensor"
   ]
  },
  {
   "cell_type": "markdown",
   "id": "ef650351",
   "metadata": {},
   "source": [
    "#### 2) Buatlah sebuah tensor dengan shape(5,5) dari sebuah list dengan nilai bilangan prima dalam variable prime_tensor dan tampilkan isinya"
   ]
  },
  {
   "cell_type": "code",
   "execution_count": 47,
   "id": "2d3f1627",
   "metadata": {},
   "outputs": [
    {
     "data": {
      "text/plain": [
       "<tf.Tensor: shape=(5, 5), dtype=float32, numpy=\n",
       "array([[ 2.,  3.,  5.,  7., 11.],\n",
       "       [13., 17., 19., 23., 29.],\n",
       "       [31., 37., 41., 43., 47.],\n",
       "       [53., 59., 61., 67., 71.],\n",
       "       [73., 79., 83., 89., 97.]], dtype=float32)>"
      ]
     },
     "execution_count": 47,
     "metadata": {},
     "output_type": "execute_result"
    }
   ],
   "source": [
    "# Deklarasi variabel yang merupakan array yang berisi nilai prima\n",
    "# Di sini saya memberi batasan berupa nilai prima di bawah 100\n",
    "\n",
    "arrayPrima = [[2, 3, 5, 7, 11],\n",
    "              [13, 17, 19, 23, 29],\n",
    "              [31, 37, 41, 43, 47],\n",
    "              [53, 59, 61, 67, 71],\n",
    "              [73, 79, 83, 89, 97]]\n",
    "\n",
    "# Buat variabel prime_tensor yang menampung fungsi tf.convert_to_tensor\n",
    "\n",
    "prime_tensor = tf.convert_to_tensor(arrayPrima, dtype=tf.float32)\n",
    "prime_tensor"
   ]
  },
  {
   "cell_type": "markdown",
   "id": "8fb2be31",
   "metadata": {},
   "source": [
    "#### 3) Tampilkan dimensi dari kedua variable tersebut"
   ]
  },
  {
   "cell_type": "code",
   "execution_count": 48,
   "id": "bf48e5e3",
   "metadata": {},
   "outputs": [
    {
     "name": "stdout",
     "output_type": "stream",
     "text": [
      "Dimensi dari variabel random_tensor: (5, 5)\n",
      "Dimensi dari variabel prime_tensor: (5, 5)\n"
     ]
    }
   ],
   "source": [
    "# Untuk menampilkan dimensi dari 2 variabel di atas\n",
    "# gunakan fungsi shape dan get_shape()\n",
    "\n",
    "print(f'Dimensi dari variabel random_tensor: {random_tensor.shape}',\n",
    "     f'Dimensi dari variabel prime_tensor: {prime_tensor.get_shape()}',\n",
    "     sep='\\n')"
   ]
  },
  {
   "cell_type": "markdown",
   "id": "9f734cf2",
   "metadata": {},
   "source": [
    "#### 4) Tampilkan hasil dari perhitungan aritmetika 2 variable tersebut (Gunakan minimal 5 operator)"
   ]
  },
  {
   "cell_type": "markdown",
   "id": "01b50cb7",
   "metadata": {},
   "source": [
    "##### 4.1) Operator Pangkat"
   ]
  },
  {
   "cell_type": "code",
   "execution_count": 49,
   "id": "f575cc34",
   "metadata": {},
   "outputs": [
    {
     "data": {
      "text/plain": [
       "<tf.Tensor: shape=(5, 5), dtype=float32, numpy=\n",
       "array([[3.5207659e-01, 1.2286752e-01, 1.8014944e-01, 4.2624708e-02,\n",
       "        5.4471836e+00],\n",
       "       [3.4656978e-01, 3.9825749e-01, 5.0955491e+00, 1.3544221e+00,\n",
       "        2.2949676e-01],\n",
       "       [3.0467537e-01, 1.5118839e-03, 2.7946773e-01, 5.8892325e-02,\n",
       "        6.8766945e-05],\n",
       "       [9.9361278e-02, 1.3281901e-02, 1.0278437e+00, 5.1964637e-02,\n",
       "        9.1255558e-01],\n",
       "       [6.1886859e-01, 1.2031138e+00, 7.2672451e-01, 2.1701832e+00,\n",
       "        9.4027687e-03]], dtype=float32)>"
      ]
     },
     "execution_count": 49,
     "metadata": {},
     "output_type": "execute_result"
    }
   ],
   "source": [
    "# Gunakan fungsi tf.square() atau tf.pow() untuk melakukan operasi perpangkatan dari 2 tensor\n",
    "\n",
    "tf.square(random_tensor, prime_tensor)"
   ]
  },
  {
   "cell_type": "markdown",
   "id": "75faa7f1",
   "metadata": {},
   "source": [
    "##### 4.2) Operator Logaritma"
   ]
  },
  {
   "cell_type": "code",
   "execution_count": 50,
   "id": "054efbc8",
   "metadata": {
    "scrolled": true
   },
   "outputs": [
    {
     "data": {
      "text/plain": [
       "<tf.Tensor: shape=(5, 5), dtype=float32, numpy=\n",
       "array([[-0.5219533 ,         nan, -0.85698426, -1.5776606 ,  0.8475494 ],\n",
       "       [-0.5298355 , -0.46032825,         nan,         nan, -0.7359332 ],\n",
       "       [        nan,         nan,         nan, -1.4160223 , -4.7923937 ],\n",
       "       [        nan,         nan,         nan, -1.478596  ,         nan],\n",
       "       [        nan,         nan, -0.15960394,         nan,         nan]],\n",
       "      dtype=float32)>"
      ]
     },
     "execution_count": 50,
     "metadata": {},
     "output_type": "execute_result"
    }
   ],
   "source": [
    "# Gunakan fungsi tf.math.log() untuk melakukan operasi logaritma dari 2 tensor\n",
    "# Perlu diingat bahwa tensor harus memiliki dtype berupa float, baik float32 maupun float64\n",
    "\n",
    "tf.math.log(random_tensor, prime_tensor)"
   ]
  },
  {
   "cell_type": "markdown",
   "id": "b12ba5d1",
   "metadata": {},
   "source": [
    "##### 4.3) Operator Pembagian"
   ]
  },
  {
   "cell_type": "code",
   "execution_count": 51,
   "id": "1cb36383",
   "metadata": {},
   "outputs": [
    {
     "data": {
      "text/plain": [
       "<tf.Tensor: shape=(5, 5), dtype=float32, numpy=\n",
       "array([[ 2.96680212e-01, -1.16841547e-01,  8.48880261e-02,\n",
       "         2.94939317e-02,  2.12174565e-01],\n",
       "       [ 4.52847518e-02,  3.71221453e-02, -1.18806966e-01,\n",
       "        -5.05998433e-02,  1.65192485e-02],\n",
       "       [-1.78056154e-02, -1.05089066e-03, -1.28938304e-02,\n",
       "         5.64366067e-03,  1.76437956e-04],\n",
       "       [-5.94747625e-03, -1.95334130e-03, -1.66201033e-02,\n",
       "         3.40235117e-03, -1.34546161e-02],\n",
       "       [-1.07764658e-02, -1.38843721e-02,  1.02708600e-02,\n",
       "        -1.65522937e-02, -9.99668846e-04]], dtype=float32)>"
      ]
     },
     "execution_count": 51,
     "metadata": {},
     "output_type": "execute_result"
    }
   ],
   "source": [
    "# Gunakan fungsi tf.divide() untuk melakukan operasi pembagian dari 2 tensor\n",
    "\n",
    "tf.divide(random_tensor, prime_tensor)"
   ]
  },
  {
   "cell_type": "markdown",
   "id": "f1c63b91",
   "metadata": {},
   "source": [
    "##### 4.4) Operator Perkalian"
   ]
  },
  {
   "cell_type": "code",
   "execution_count": 52,
   "id": "e588525a",
   "metadata": {},
   "outputs": [
    {
     "data": {
      "text/plain": [
       "<tf.Tensor: shape=(5, 5), dtype=float32, numpy=\n",
       "array([[   1.1867208 ,   -1.0515739 ,    2.1222007 ,    1.4452027 ,\n",
       "          25.673122  ],\n",
       "       [   7.6531234 ,   10.7283    ,  -42.889313  ,  -26.767319  ,\n",
       "          13.892688  ],\n",
       "       [ -17.111197  ,   -1.4386692 ,  -21.67453   ,   10.435128  ,\n",
       "           0.38975143],\n",
       "       [ -16.70646   ,   -6.7995806 ,  -61.843403  ,   15.273154  ,\n",
       "         -67.82472   ],\n",
       "       [ -57.427788  ,  -86.65237   ,   70.75595   , -131.11072   ,\n",
       "          -9.405884  ]], dtype=float32)>"
      ]
     },
     "execution_count": 52,
     "metadata": {},
     "output_type": "execute_result"
    }
   ],
   "source": [
    "# Gunakan fungsi tf.multiply() untuk melakukan operasi perkalian dari 2 tensor\n",
    "\n",
    "tf.multiply(random_tensor, prime_tensor)"
   ]
  },
  {
   "cell_type": "markdown",
   "id": "e85f47e5",
   "metadata": {},
   "source": [
    "##### 4.5) Operator Pengurangan"
   ]
  },
  {
   "cell_type": "code",
   "execution_count": 53,
   "id": "a21fc99b",
   "metadata": {},
   "outputs": [
    {
     "data": {
      "text/plain": [
       "<tf.Tensor: shape=(5, 5), dtype=float32, numpy=\n",
       "array([[ -1.4066396,  -3.3505247,  -4.5755596,  -6.7935424,  -8.6660795],\n",
       "       [-12.411298 , -16.368923 , -21.257332 , -24.163795 , -28.520943 ],\n",
       "       [-31.551973 , -37.038883 , -41.52865  , -42.757324 , -46.991707 ],\n",
       "       [-53.315216 , -59.115246 , -62.013824 , -66.77204  , -71.95528  ],\n",
       "       [-73.78668  , -80.09686  , -82.14752  , -90.47315  , -97.09697  ]],\n",
       "      dtype=float32)>"
      ]
     },
     "execution_count": 53,
     "metadata": {},
     "output_type": "execute_result"
    }
   ],
   "source": [
    "# Gunakan fungsi tf.subtract() untuk melakukan operasi perkurangan dari 2 tensor\n",
    "\n",
    "tf.subtract(random_tensor, prime_tensor)"
   ]
  },
  {
   "cell_type": "markdown",
   "id": "5853bf13",
   "metadata": {},
   "source": [
    "##### 4.6) Operator Penambahan"
   ]
  },
  {
   "cell_type": "code",
   "execution_count": 54,
   "id": "92056bbd",
   "metadata": {},
   "outputs": [
    {
     "data": {
      "text/plain": [
       "<tf.Tensor: shape=(5, 5), dtype=float32, numpy=\n",
       "array([[ 2.5933604,  2.6494753,  5.4244404,  7.2064576, 13.3339205],\n",
       "       [13.588702 , 17.631077 , 16.742668 , 21.836205 , 29.479057 ],\n",
       "       [30.448027 , 36.961117 , 40.47135  , 43.242676 , 47.008293 ],\n",
       "       [52.684784 , 58.884754 , 59.986176 , 67.22796  , 70.04472  ],\n",
       "       [72.21332  , 77.90314  , 83.85248  , 87.52685  , 96.90303  ]],\n",
       "      dtype=float32)>"
      ]
     },
     "execution_count": 54,
     "metadata": {},
     "output_type": "execute_result"
    }
   ],
   "source": [
    "# Gunakan fungsi tf.add() untuk melakukan operasi pertambahan dari 2 tensor\n",
    "\n",
    "tf.add(random_tensor, prime_tensor)"
   ]
  },
  {
   "cell_type": "markdown",
   "id": "65693df6",
   "metadata": {},
   "source": [
    "#### 5) Tampilkan nilai maksimal dan minimal dari variable random_tensor"
   ]
  },
  {
   "cell_type": "code",
   "execution_count": 55,
   "id": "cc1125df",
   "metadata": {},
   "outputs": [
    {
     "name": "stdout",
     "output_type": "stream",
     "text": [
      "Nilai maksimum dari Tensor random_tensor berdasarkan kolom:\n",
      "Nilai Kolom-1 Baris-0: 0.593360\n",
      "Nilai Kolom-2 Baris-1: 0.631076\n",
      "Nilai Kolom-3 Baris-4: 0.008293\n",
      "Nilai Kolom-4 Baris-2: -1.013826\n",
      "Nilai Kolom-5 Baris-0: -0.786682\n",
      "\n",
      "Nilai maksimum dari Tensor random_tensor berdasarkan baris:\n",
      "Nilai Baris-1 Kolom-4: 2.333920\n",
      "Nilai Baris-2 Kolom-1: 0.631076\n",
      "Nilai Baris-3 Kolom-3: 0.242677\n",
      "Nilai Baris-4 Kolom-3: 0.227958\n",
      "Nilai Baris-5 Kolom-2: 0.852481\n",
      "\n",
      "Nilai minimum dari Tensor random_tensor berdasarkan kolom:\n",
      "Nilai Kolom-1 Baris-4: 2.333920\n",
      "Nilai Kolom-2 Baris-4: 0.479058\n",
      "Nilai Kolom-3 Baris-1: -0.038883\n",
      "Nilai Kolom-4 Baris-4: -0.955278\n",
      "Nilai Kolom-5 Baris-3: -1.473154\n",
      "\n",
      "Nilai minimum dari Tensor random_tensor berdasarkan baris:\n",
      "Nilai Baris-1 Kolom-1: -0.350525\n",
      "Nilai Baris-2 Kolom-2: -2.257332\n",
      "Nilai Baris-3 Kolom-0: -0.551974\n",
      "Nilai Baris-4 Kolom-2: -1.013826\n",
      "Nilai Baris-5 Kolom-3: -1.473154\n"
     ]
    }
   ],
   "source": [
    "# Untuk menampilkan nilai maksimal dan minimal dari variabel random_tensor\n",
    "# gunakan fungsi tf.argmax() dan tf.argmin()\n",
    "\n",
    "print('Nilai maksimum dari Tensor random_tensor berdasarkan kolom:')\n",
    "for x, y in enumerate(tf.argmax(random_tensor, axis=0)):\n",
    "    print('Nilai Kolom-%d Baris-%d: %f' % (x + 1, y, random_tensor[x, y].numpy()))\n",
    "\n",
    "print('\\nNilai maksimum dari Tensor random_tensor berdasarkan baris:')\n",
    "for x, y in enumerate(tf.argmax(random_tensor, axis=1)):\n",
    "    print('Nilai Baris-%d Kolom-%d: %f' % (x + 1, y, random_tensor[x, y].numpy()))\n",
    "    \n",
    "print('\\nNilai minimum dari Tensor random_tensor berdasarkan kolom:')\n",
    "for x, y in enumerate(tf.argmin(random_tensor, axis=0)):\n",
    "    print('Nilai Kolom-%d Baris-%d: %f' % (x + 1, y, random_tensor[x, y].numpy()))\n",
    "    \n",
    "print('\\nNilai minimum dari Tensor random_tensor berdasarkan baris:')\n",
    "for x, y in enumerate(tf.argmin(random_tensor, axis=1)):\n",
    "    print('Nilai Baris-%d Kolom-%d: %f' % (x + 1, y, random_tensor[x, y].numpy()))"
   ]
  },
  {
   "cell_type": "markdown",
   "id": "b0a4c256",
   "metadata": {},
   "source": [
    "#### 6) Tampilkan hasil dari penggabungan variable random_tensor dengan prime_tensor (concatenation)"
   ]
  },
  {
   "cell_type": "code",
   "execution_count": 56,
   "id": "6a191fcb",
   "metadata": {},
   "outputs": [
    {
     "data": {
      "text/plain": [
       "<tf.Tensor: shape=(10, 5), dtype=float32, numpy=\n",
       "array([[ 5.9336042e-01, -3.5052463e-01,  4.2444015e-01,  2.0645753e-01,\n",
       "         2.3339202e+00],\n",
       "       [ 5.8870178e-01,  6.3107646e-01, -2.2573323e+00, -1.1637964e+00,\n",
       "         4.7905821e-01],\n",
       "       [-5.5197406e-01, -3.8882952e-02, -5.2864707e-01,  2.4267741e-01,\n",
       "         8.2925837e-03],\n",
       "       [-3.1521624e-01, -1.1524713e-01, -1.0138263e+00,  2.2795753e-01,\n",
       "        -9.5527774e-01],\n",
       "       [-7.8668201e-01, -1.0968654e+00,  8.5248137e-01, -1.4731542e+00,\n",
       "        -9.6967876e-02],\n",
       "       [ 2.0000000e+00,  3.0000000e+00,  5.0000000e+00,  7.0000000e+00,\n",
       "         1.1000000e+01],\n",
       "       [ 1.3000000e+01,  1.7000000e+01,  1.9000000e+01,  2.3000000e+01,\n",
       "         2.9000000e+01],\n",
       "       [ 3.1000000e+01,  3.7000000e+01,  4.1000000e+01,  4.3000000e+01,\n",
       "         4.7000000e+01],\n",
       "       [ 5.3000000e+01,  5.9000000e+01,  6.1000000e+01,  6.7000000e+01,\n",
       "         7.1000000e+01],\n",
       "       [ 7.3000000e+01,  7.9000000e+01,  8.3000000e+01,  8.9000000e+01,\n",
       "         9.7000000e+01]], dtype=float32)>"
      ]
     },
     "execution_count": 56,
     "metadata": {},
     "output_type": "execute_result"
    }
   ],
   "source": [
    "# Untuk menggabungkan 2 tensor, gunakan fungsi tf.concat()\n",
    "\n",
    "tf.concat([random_tensor, prime_tensor], axis=0)"
   ]
  },
  {
   "cell_type": "markdown",
   "id": "ce8e3c52",
   "metadata": {},
   "source": [
    "#### 7) Tampilkan hasil sorting dari kedua variable di atas. (descending)"
   ]
  },
  {
   "cell_type": "markdown",
   "id": "d7b85e94",
   "metadata": {},
   "source": [
    "##### 7.1) Tensor random_tensor"
   ]
  },
  {
   "cell_type": "code",
   "execution_count": 57,
   "id": "ae9625da",
   "metadata": {},
   "outputs": [
    {
     "name": "stdout",
     "output_type": "stream",
     "text": [
      "Tensor random_tensor setelah disortir secara descending:\n"
     ]
    },
    {
     "data": {
      "text/plain": [
       "<tf.Tensor: shape=(5, 5), dtype=float32, numpy=\n",
       "array([[ 2.3339202 ,  0.5933604 ,  0.42444015,  0.20645753, -0.35052463],\n",
       "       [ 0.63107646,  0.5887018 ,  0.4790582 , -1.1637964 , -2.2573323 ],\n",
       "       [ 0.2426774 ,  0.00829258, -0.03888295, -0.52864707, -0.55197406],\n",
       "       [ 0.22795753, -0.11524713, -0.31521624, -0.95527774, -1.0138263 ],\n",
       "       [ 0.85248137, -0.09696788, -0.786682  , -1.0968654 , -1.4731542 ]],\n",
       "      dtype=float32)>"
      ]
     },
     "execution_count": 57,
     "metadata": {},
     "output_type": "execute_result"
    }
   ],
   "source": [
    "# Untuk melakukan proses sortir secara descending, gunakan fungsi tf.sort() dengan parameter direction='DESCENDING'\n",
    "\n",
    "print('Tensor random_tensor setelah disortir secara descending:')\n",
    "tf.sort(random_tensor.numpy(), direction='DESCENDING')"
   ]
  },
  {
   "cell_type": "markdown",
   "id": "f47a7ea1",
   "metadata": {},
   "source": [
    "##### 7.2) Tensor prime_tensor"
   ]
  },
  {
   "cell_type": "code",
   "execution_count": 58,
   "id": "ff57689d",
   "metadata": {},
   "outputs": [
    {
     "name": "stdout",
     "output_type": "stream",
     "text": [
      "Tensor prime_tensor setelah disortir secara descending:\n"
     ]
    },
    {
     "data": {
      "text/plain": [
       "<tf.Tensor: shape=(5, 5), dtype=float32, numpy=\n",
       "array([[11.,  7.,  5.,  3.,  2.],\n",
       "       [29., 23., 19., 17., 13.],\n",
       "       [47., 43., 41., 37., 31.],\n",
       "       [71., 67., 61., 59., 53.],\n",
       "       [97., 89., 83., 79., 73.]], dtype=float32)>"
      ]
     },
     "execution_count": 58,
     "metadata": {},
     "output_type": "execute_result"
    }
   ],
   "source": [
    "# Untuk melakukan proses sortir secara descending, gunakan fungsi tf.sort() dengan parameter direction='DESCENDING'\n",
    "\n",
    "print('Tensor prime_tensor setelah disortir secara descending:')\n",
    "tf.sort(prime_tensor.numpy(), direction='DESCENDING')"
   ]
  },
  {
   "cell_type": "code",
   "execution_count": null,
   "id": "ac455035",
   "metadata": {},
   "outputs": [],
   "source": []
  }
 ],
 "metadata": {
  "kernelspec": {
   "display_name": "Python 3 (ipykernel)",
   "language": "python",
   "name": "python3"
  },
  "language_info": {
   "codemirror_mode": {
    "name": "ipython",
    "version": 3
   },
   "file_extension": ".py",
   "mimetype": "text/x-python",
   "name": "python",
   "nbconvert_exporter": "python",
   "pygments_lexer": "ipython3",
   "version": "3.10.7"
  }
 },
 "nbformat": 4,
 "nbformat_minor": 5
}
