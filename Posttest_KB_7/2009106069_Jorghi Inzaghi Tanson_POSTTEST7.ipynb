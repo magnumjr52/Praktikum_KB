{
 "cells": [
  {
   "cell_type": "markdown",
   "id": "7cad2ef7",
   "metadata": {},
   "source": [
    "# POSTTEST 7 - Modul Pengenalan TensorFlow\n",
    "#### Nama : Jorghi Inzaghi Tanson\n",
    "#### NIM    : 2009106069"
   ]
  },
  {
   "cell_type": "markdown",
   "id": "bc7afac1",
   "metadata": {},
   "source": [
    "##### Import library yang dibutuhkan"
   ]
  },
  {
   "cell_type": "code",
   "execution_count": 43,
   "id": "93d534fe",
   "metadata": {},
   "outputs": [],
   "source": [
    "import tensorflow as tf"
   ]
  },
  {
   "cell_type": "markdown",
   "id": "0d7f1054",
   "metadata": {},
   "source": [
    "#### 1) Buatlah sebuah tensor dengan shape(5,5) dengan nilai random yang disimpan dalam variable random_tensor dan tampilkan isinya"
   ]
  },
  {
   "cell_type": "code",
   "execution_count": 44,
   "id": "b0b2658a",
   "metadata": {},
   "outputs": [
    {
     "data": {
      "text/plain": [
       "<tf.Tensor: shape=(5, 5), dtype=float32, numpy=\n",
       "array([[-1.2561487 ,  0.29687878,  0.65087503,  1.7259694 ,  1.6681558 ],\n",
       "       [-0.31113186, -1.612716  , -1.0075768 , -0.4171152 ,  1.813826  ],\n",
       "       [-0.6462316 , -2.015338  , -1.9451894 ,  1.4860994 , -1.055269  ],\n",
       "       [-0.17533472,  2.0826657 ,  0.8370288 , -0.25849134, -2.2093742 ],\n",
       "       [ 0.21309677,  1.5003546 ,  1.8912373 , -0.38746604,  0.6478526 ]],\n",
       "      dtype=float32)>"
      ]
     },
     "execution_count": 44,
     "metadata": {},
     "output_type": "execute_result"
    }
   ],
   "source": [
    "# Deklarasi variabel random_tensor untuk membuat tensor yang berisi nilai random gunakan fungsi tf.random.normal()\n",
    "\n",
    "random_tensor = tf.random.normal([5, 5])\n",
    "random_tensor"
   ]
  },
  {
   "cell_type": "markdown",
   "id": "ef650351",
   "metadata": {},
   "source": [
    "#### 2) Buatlah sebuah tensor dengan shape(5,5) dari sebuah list dengan nilai bilangan prima dalam variable prime_tensor dan tampilkan isinya"
   ]
  },
  {
   "cell_type": "code",
   "execution_count": 45,
   "id": "2d3f1627",
   "metadata": {},
   "outputs": [
    {
     "data": {
      "text/plain": [
       "<tf.Tensor: shape=(5, 5), dtype=float32, numpy=\n",
       "array([[ 2.,  3.,  5.,  7., 11.],\n",
       "       [13., 17., 19., 23., 29.],\n",
       "       [31., 37., 41., 43., 47.],\n",
       "       [53., 59., 61., 67., 71.],\n",
       "       [73., 79., 83., 89., 97.]], dtype=float32)>"
      ]
     },
     "execution_count": 45,
     "metadata": {},
     "output_type": "execute_result"
    }
   ],
   "source": [
    "# Deklarasi variabel yang merupakan array yang berisi nilai prima\n",
    "# Di sini saya memberi batasan berupa nilai prima di bawah 100\n",
    "\n",
    "arrayPrima = [[2, 3, 5, 7, 11],\n",
    "              [13, 17, 19, 23, 29],\n",
    "              [31, 37, 41, 43, 47],\n",
    "              [53, 59, 61, 67, 71],\n",
    "              [73, 79, 83, 89, 97]]\n",
    "\n",
    "# Buat variabel prime_tensor yang menampung fungsi tf.convert_to_tensor\n",
    "\n",
    "prime_tensor = tf.convert_to_tensor(arrayPrima, dtype=tf.float32)\n",
    "prime_tensor"
   ]
  },
  {
   "cell_type": "markdown",
   "id": "8fb2be31",
   "metadata": {},
   "source": [
    "#### 3) Tampilkan dimensi dari kedua variable tersebut"
   ]
  },
  {
   "cell_type": "code",
   "execution_count": 46,
   "id": "bf48e5e3",
   "metadata": {},
   "outputs": [
    {
     "name": "stdout",
     "output_type": "stream",
     "text": [
      "Dimensi dari variabel random_tensor: (5, 5)\n",
      "Dimensi dari variabel prime_tensor: (5, 5)\n"
     ]
    }
   ],
   "source": [
    "# Untuk menampilkan dimensi dari 2 variabel di atas\n",
    "# gunakan fungsi shape dan get_shape()\n",
    "\n",
    "print(f'Dimensi dari variabel random_tensor: {random_tensor.shape}',\n",
    "     f'Dimensi dari variabel prime_tensor: {prime_tensor.get_shape()}',\n",
    "     sep='\\n')"
   ]
  },
  {
   "cell_type": "markdown",
   "id": "9f734cf2",
   "metadata": {},
   "source": [
    "#### 4) Tampilkan hasil dari perhitungan aritmetika 2 variable tersebut (Gunakan minimal 5 operator)"
   ]
  },
  {
   "cell_type": "markdown",
   "id": "01b50cb7",
   "metadata": {},
   "source": [
    "##### 4.1) Operator Pangkat"
   ]
  },
  {
   "cell_type": "code",
   "execution_count": 47,
   "id": "f575cc34",
   "metadata": {},
   "outputs": [
    {
     "data": {
      "text/plain": [
       "<tf.Tensor: shape=(5, 5), dtype=float32, numpy=\n",
       "array([[1.5779096 , 0.08813702, 0.4236383 , 2.9789705 , 2.7827437 ],\n",
       "       [0.09680304, 2.6008527 , 1.0152111 , 0.1739851 , 3.2899647 ],\n",
       "       [0.41761526, 4.061587  , 3.7837617 , 2.2084913 , 1.1135926 ],\n",
       "       [0.03074227, 4.3374963 , 0.7006172 , 0.06681777, 4.8813343 ],\n",
       "       [0.04541023, 2.251064  , 3.5767784 , 0.15012993, 0.419713  ]],\n",
       "      dtype=float32)>"
      ]
     },
     "execution_count": 47,
     "metadata": {},
     "output_type": "execute_result"
    }
   ],
   "source": [
    "# Gunakan fungsi tf.square() atau tf.pow() untuk melakukan operasi perpangkatan dari 2 tensor\n",
    "\n",
    "tf.square(random_tensor, prime_tensor)"
   ]
  },
  {
   "cell_type": "markdown",
   "id": "75faa7f1",
   "metadata": {},
   "source": [
    "##### 4.2) Operator Logaritma"
   ]
  },
  {
   "cell_type": "code",
   "execution_count": 48,
   "id": "054efbc8",
   "metadata": {
    "scrolled": true
   },
   "outputs": [
    {
     "data": {
      "text/plain": [
       "<tf.Tensor: shape=(5, 5), dtype=float32, numpy=\n",
       "array([[        nan, -1.2144314 , -0.42943764,  0.5457889 ,  0.5117187 ],\n",
       "       [        nan,         nan,         nan,         nan,  0.5954384 ],\n",
       "       [        nan,         nan,         nan,  0.39615482,         nan],\n",
       "       [        nan,  0.73364866, -0.1778968 ,         nan,         nan],\n",
       "       [-1.546009  ,  0.40570155,  0.63723123,         nan, -0.43409207]],\n",
       "      dtype=float32)>"
      ]
     },
     "execution_count": 48,
     "metadata": {},
     "output_type": "execute_result"
    }
   ],
   "source": [
    "# Gunakan fungsi tf.math.log() untuk melakukan operasi logaritma dari 2 tensor\n",
    "# Perlu diingat bahwa tensor harus memiliki dtype berupa float, baik float32 maupun float64\n",
    "\n",
    "tf.math.log(random_tensor, prime_tensor)"
   ]
  },
  {
   "cell_type": "markdown",
   "id": "b12ba5d1",
   "metadata": {},
   "source": [
    "##### 4.3) Operator Pembagian"
   ]
  },
  {
   "cell_type": "code",
   "execution_count": 49,
   "id": "1cb36383",
   "metadata": {},
   "outputs": [
    {
     "data": {
      "text/plain": [
       "<tf.Tensor: shape=(5, 5), dtype=float32, numpy=\n",
       "array([[-0.62807435,  0.09895959,  0.13017501,  0.24656706,  0.15165053],\n",
       "       [-0.02393322, -0.09486564, -0.05303036, -0.01813544,  0.06254572],\n",
       "       [-0.02084618, -0.05446859, -0.04744364,  0.03456045, -0.02245253],\n",
       "       [-0.0033082 ,  0.03529942,  0.01372178, -0.00385808, -0.03111795],\n",
       "       [ 0.00291913,  0.01899183,  0.02278599, -0.00435355,  0.00667889]],\n",
       "      dtype=float32)>"
      ]
     },
     "execution_count": 49,
     "metadata": {},
     "output_type": "execute_result"
    }
   ],
   "source": [
    "# Gunakan fungsi tf.divide() untuk melakukan operasi pembagian dari 2 tensor\n",
    "\n",
    "tf.divide(random_tensor, prime_tensor)"
   ]
  },
  {
   "cell_type": "markdown",
   "id": "f1c63b91",
   "metadata": {},
   "source": [
    "##### 4.4) Operator Perkalian"
   ]
  },
  {
   "cell_type": "code",
   "execution_count": 50,
   "id": "e588525a",
   "metadata": {},
   "outputs": [
    {
     "data": {
      "text/plain": [
       "<tf.Tensor: shape=(5, 5), dtype=float32, numpy=\n",
       "array([[  -2.5122974,    0.8906363,    3.2543752,   12.081786 ,\n",
       "          18.349714 ],\n",
       "       [  -4.0447145,  -27.416172 ,  -19.143959 ,   -9.59365  ,\n",
       "          52.600952 ],\n",
       "       [ -20.03318  ,  -74.567505 ,  -79.75276  ,   63.90227  ,\n",
       "         -49.597645 ],\n",
       "       [  -9.29274  ,  122.87727  ,   51.058758 ,  -17.31892  ,\n",
       "        -156.86557  ],\n",
       "       [  15.556064 ,  118.528015 ,  156.97269  ,  -34.484478 ,\n",
       "          62.8417   ]], dtype=float32)>"
      ]
     },
     "execution_count": 50,
     "metadata": {},
     "output_type": "execute_result"
    }
   ],
   "source": [
    "# Gunakan fungsi tf.multiply() untuk melakukan operasi perkalian dari 2 tensor\n",
    "\n",
    "tf.multiply(random_tensor, prime_tensor)"
   ]
  },
  {
   "cell_type": "markdown",
   "id": "e85f47e5",
   "metadata": {},
   "source": [
    "##### 4.5) Operator Pengurangan"
   ]
  },
  {
   "cell_type": "code",
   "execution_count": 51,
   "id": "a21fc99b",
   "metadata": {},
   "outputs": [
    {
     "data": {
      "text/plain": [
       "<tf.Tensor: shape=(5, 5), dtype=float32, numpy=\n",
       "array([[ -3.2561488,  -2.7031212,  -4.349125 ,  -5.2740307,  -9.331844 ],\n",
       "       [-13.3111315, -18.612717 , -20.007576 , -23.417114 , -27.186174 ],\n",
       "       [-31.64623  , -39.01534  , -42.94519  , -41.5139   , -48.055267 ],\n",
       "       [-53.175335 , -56.917336 , -60.16297  , -67.25849  , -73.20937  ],\n",
       "       [-72.7869   , -77.49965  , -81.108765 , -89.38747  , -96.35215  ]],\n",
       "      dtype=float32)>"
      ]
     },
     "execution_count": 51,
     "metadata": {},
     "output_type": "execute_result"
    }
   ],
   "source": [
    "# Gunakan fungsi tf.subtract() untuk melakukan operasi perkurangan dari 2 tensor\n",
    "\n",
    "tf.subtract(random_tensor, prime_tensor)"
   ]
  },
  {
   "cell_type": "markdown",
   "id": "5853bf13",
   "metadata": {},
   "source": [
    "##### 4.6) Operator Penambahan"
   ]
  },
  {
   "cell_type": "code",
   "execution_count": 52,
   "id": "92056bbd",
   "metadata": {},
   "outputs": [
    {
     "data": {
      "text/plain": [
       "<tf.Tensor: shape=(5, 5), dtype=float32, numpy=\n",
       "array([[ 0.7438513,  3.2968788,  5.650875 ,  8.725969 , 12.668156 ],\n",
       "       [12.6888685, 15.387284 , 17.992424 , 22.582886 , 30.813826 ],\n",
       "       [30.35377  , 34.98466  , 39.05481  , 44.4861   , 45.944733 ],\n",
       "       [52.824665 , 61.082664 , 61.83703  , 66.74151  , 68.79063  ],\n",
       "       [73.2131   , 80.50035  , 84.891235 , 88.61253  , 97.64785  ]],\n",
       "      dtype=float32)>"
      ]
     },
     "execution_count": 52,
     "metadata": {},
     "output_type": "execute_result"
    }
   ],
   "source": [
    "# Gunakan fungsi tf.add() untuk melakukan operasi pertambahan dari 2 tensor\n",
    "\n",
    "tf.add(random_tensor, prime_tensor)"
   ]
  },
  {
   "cell_type": "markdown",
   "id": "65693df6",
   "metadata": {},
   "source": [
    "#### 5) Tampilkan nilai maksimal dan minimal dari variable random_tensor"
   ]
  },
  {
   "cell_type": "code",
   "execution_count": 53,
   "id": "cc1125df",
   "metadata": {},
   "outputs": [
    {
     "name": "stdout",
     "output_type": "stream",
     "text": [
      "Nilai maksimum dari Tensor random_tensor berdasarkan kolom:\n",
      "Nilai Kolom-1: 1.668156 \tBaris: 4\n",
      "Nilai Kolom-2: -0.417115 \tBaris: 3\n",
      "Nilai Kolom-3: -1.055269 \tBaris: 4\n",
      "Nilai Kolom-4: -0.175335 \tBaris: 0\n",
      "Nilai Kolom-5: 1.500355 \tBaris: 1\n",
      "\n",
      "Nilai maksimum dari Tensor random_tensor berdasarkan baris:\n",
      "Nilai Baris-1: 1.725969 \tKolom: 3\n",
      "Nilai Baris-2: 1.813826 \tKolom: 4\n",
      "Nilai Baris-3: 1.486099 \tKolom: 3\n",
      "Nilai Baris-4: 2.082666 \tKolom: 1\n",
      "Nilai Baris-5: 1.891237 \tKolom: 2\n",
      "\n",
      "Nilai minimum dari Tensor random_tensor berdasarkan kolom:\n",
      "Nilai Kolom-1: -1.256149 \tBaris: 0\n",
      "Nilai Kolom-2: -1.007577 \tBaris: 2\n",
      "Nilai Kolom-3: -1.945189 \tBaris: 2\n",
      "Nilai Kolom-4: 2.082666 \tBaris: 1\n",
      "Nilai Kolom-5: -0.387466 \tBaris: 3\n",
      "\n",
      "Nilai minimum dari Tensor random_tensor berdasarkan baris:\n",
      "Nilai Baris-1: -1.256149 \tKolom: 0\n",
      "Nilai Baris-2: -1.612716 \tKolom: 1\n",
      "Nilai Baris-3: -2.015338 \tKolom: 1\n",
      "Nilai Baris-4: -2.209374 \tKolom: 4\n",
      "Nilai Baris-5: -0.387466 \tKolom: 3\n"
     ]
    }
   ],
   "source": [
    "# Untuk menampilkan nilai maksimal dan minimal dari variabel random_tensor\n",
    "# gunakan fungsi tf.argmax() dan tf.argmin()\n",
    "\n",
    "print('Nilai maksimum dari Tensor random_tensor berdasarkan kolom:')\n",
    "for x, y in enumerate(tf.argmax(random_tensor, axis=0)):\n",
    "    print('Nilai Kolom-%d: %f \\tBaris: %d' % (x + 1, random_tensor[x, y].numpy(), y))\n",
    "\n",
    "print('\\nNilai maksimum dari Tensor random_tensor berdasarkan baris:')\n",
    "for x, y in enumerate(tf.argmax(random_tensor, axis=1)):\n",
    "    print('Nilai Baris-%d: %f \\tKolom: %d' % (x + 1, random_tensor[x, y].numpy(), y))\n",
    "    \n",
    "print('\\nNilai minimum dari Tensor random_tensor berdasarkan kolom:')\n",
    "for x, y in enumerate(tf.argmin(random_tensor, axis=0)):\n",
    "    print('Nilai Kolom-%d: %f \\tBaris: %d' % (x + 1, random_tensor[x, y].numpy(), y))\n",
    "    \n",
    "print('\\nNilai minimum dari Tensor random_tensor berdasarkan baris:')\n",
    "for x, y in enumerate(tf.argmin(random_tensor, axis=1)):\n",
    "    print('Nilai Baris-%d: %f \\tKolom: %d' % (x + 1, random_tensor[x, y].numpy(), y))"
   ]
  },
  {
   "cell_type": "markdown",
   "id": "b0a4c256",
   "metadata": {},
   "source": [
    "#### 6) Tampilkan hasil dari penggabungan variable random_tensor dengan prime_tensor (concatenation)"
   ]
  },
  {
   "cell_type": "code",
   "execution_count": 54,
   "id": "6a191fcb",
   "metadata": {},
   "outputs": [
    {
     "data": {
      "text/plain": [
       "<tf.Tensor: shape=(10, 5), dtype=float32, numpy=\n",
       "array([[-1.2561487 ,  0.29687878,  0.65087503,  1.7259694 ,  1.6681558 ],\n",
       "       [-0.31113186, -1.612716  , -1.0075768 , -0.4171152 ,  1.813826  ],\n",
       "       [-0.6462316 , -2.015338  , -1.9451894 ,  1.4860994 , -1.055269  ],\n",
       "       [-0.17533472,  2.0826657 ,  0.8370288 , -0.25849134, -2.2093742 ],\n",
       "       [ 0.21309677,  1.5003546 ,  1.8912373 , -0.38746604,  0.6478526 ],\n",
       "       [ 2.        ,  3.        ,  5.        ,  7.        , 11.        ],\n",
       "       [13.        , 17.        , 19.        , 23.        , 29.        ],\n",
       "       [31.        , 37.        , 41.        , 43.        , 47.        ],\n",
       "       [53.        , 59.        , 61.        , 67.        , 71.        ],\n",
       "       [73.        , 79.        , 83.        , 89.        , 97.        ]],\n",
       "      dtype=float32)>"
      ]
     },
     "execution_count": 54,
     "metadata": {},
     "output_type": "execute_result"
    }
   ],
   "source": [
    "# Untuk menggabungkan 2 tensor, gunakan fungsi tf.concat()\n",
    "\n",
    "tf.concat([random_tensor, prime_tensor], axis=0)"
   ]
  },
  {
   "cell_type": "markdown",
   "id": "ce8e3c52",
   "metadata": {},
   "source": [
    "#### 7) Tampilkan hasil sorting dari kedua variable di atas. (descending)"
   ]
  },
  {
   "cell_type": "markdown",
   "id": "d7b85e94",
   "metadata": {},
   "source": [
    "##### 7.1) Tensor random_tensor"
   ]
  },
  {
   "cell_type": "code",
   "execution_count": 55,
   "id": "ae9625da",
   "metadata": {},
   "outputs": [
    {
     "name": "stdout",
     "output_type": "stream",
     "text": [
      "Tensor random_tensor setelah disortir secara descending:\n"
     ]
    },
    {
     "data": {
      "text/plain": [
       "<tf.Tensor: shape=(5, 5), dtype=float32, numpy=\n",
       "array([[ 1.7259694 ,  1.6681558 ,  0.65087503,  0.29687878, -1.2561487 ],\n",
       "       [ 1.813826  , -0.31113186, -0.4171152 , -1.0075768 , -1.612716  ],\n",
       "       [ 1.4860994 , -0.6462316 , -1.055269  , -1.9451894 , -2.015338  ],\n",
       "       [ 2.0826657 ,  0.8370288 , -0.17533472, -0.25849134, -2.2093742 ],\n",
       "       [ 1.8912373 ,  1.5003546 ,  0.6478526 ,  0.21309677, -0.38746604]],\n",
       "      dtype=float32)>"
      ]
     },
     "execution_count": 55,
     "metadata": {},
     "output_type": "execute_result"
    }
   ],
   "source": [
    "# Untuk melakukan proses sortir secara descending, gunakan fungsi tf.sort() dengan parameter direction='DESCENDING'\n",
    "\n",
    "print('Tensor random_tensor setelah disortir secara descending:')\n",
    "tf.sort(random_tensor.numpy(), direction='DESCENDING')"
   ]
  },
  {
   "cell_type": "markdown",
   "id": "f47a7ea1",
   "metadata": {},
   "source": [
    "##### 7.2) Tensor prime_tensor"
   ]
  },
  {
   "cell_type": "code",
   "execution_count": 56,
   "id": "ff57689d",
   "metadata": {},
   "outputs": [
    {
     "name": "stdout",
     "output_type": "stream",
     "text": [
      "Tensor prime_tensor setelah disortir secara descending:\n"
     ]
    },
    {
     "data": {
      "text/plain": [
       "<tf.Tensor: shape=(5, 5), dtype=float32, numpy=\n",
       "array([[11.,  7.,  5.,  3.,  2.],\n",
       "       [29., 23., 19., 17., 13.],\n",
       "       [47., 43., 41., 37., 31.],\n",
       "       [71., 67., 61., 59., 53.],\n",
       "       [97., 89., 83., 79., 73.]], dtype=float32)>"
      ]
     },
     "execution_count": 56,
     "metadata": {},
     "output_type": "execute_result"
    }
   ],
   "source": [
    "# Untuk melakukan proses sortir secara descending, gunakan fungsi tf.sort() dengan parameter direction='DESCENDING'\n",
    "\n",
    "print('Tensor prime_tensor setelah disortir secara descending:')\n",
    "tf.sort(prime_tensor.numpy(), direction='DESCENDING')"
   ]
  },
  {
   "cell_type": "code",
   "execution_count": null,
   "id": "ac455035",
   "metadata": {},
   "outputs": [],
   "source": []
  }
 ],
 "metadata": {
  "kernelspec": {
   "display_name": "Python 3 (ipykernel)",
   "language": "python",
   "name": "python3"
  },
  "language_info": {
   "codemirror_mode": {
    "name": "ipython",
    "version": 3
   },
   "file_extension": ".py",
   "mimetype": "text/x-python",
   "name": "python",
   "nbconvert_exporter": "python",
   "pygments_lexer": "ipython3",
   "version": "3.10.7"
  }
 },
 "nbformat": 4,
 "nbformat_minor": 5
}
