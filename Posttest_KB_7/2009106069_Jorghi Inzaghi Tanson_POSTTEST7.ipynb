{
 "cells": [
  {
   "cell_type": "markdown",
   "id": "7cad2ef7",
   "metadata": {},
   "source": [
    "# POSTTEST 7 - Modul Pengenalan TensorFlow\n",
    "#### Nama : Jorghi Inzaghi Tanson\n",
    "#### NIM    : 2009106069"
   ]
  },
  {
   "cell_type": "markdown",
   "id": "bc7afac1",
   "metadata": {},
   "source": [
    "##### Import library yang dibutuhkan"
   ]
  },
  {
   "cell_type": "code",
   "execution_count": 166,
   "id": "93d534fe",
   "metadata": {},
   "outputs": [],
   "source": [
    "import tensorflow as tf"
   ]
  },
  {
   "cell_type": "markdown",
   "id": "0d7f1054",
   "metadata": {},
   "source": [
    "#### 1) Buatlah sebuah tensor dengan shape(5,5) dengan nilai random yang disimpan dalam variable random_tensor dan tampilkan isinya"
   ]
  },
  {
   "cell_type": "code",
   "execution_count": 167,
   "id": "b0b2658a",
   "metadata": {},
   "outputs": [
    {
     "data": {
      "text/plain": [
       "<tf.Tensor: shape=(5, 5), dtype=float32, numpy=\n",
       "array([[-0.3274251 , -0.56492066, -1.1743252 ,  0.2617222 ,  0.5138776 ],\n",
       "       [-0.6808456 , -1.0943954 , -0.0048005 ,  0.10920021, -0.4473078 ],\n",
       "       [-0.20212822, -1.0283024 , -1.5350406 , -1.7779982 , -0.00385202],\n",
       "       [ 1.4321536 , -0.14831477, -0.41424876,  2.0363421 , -0.1329046 ],\n",
       "       [-0.01684707, -0.32566223,  0.49628872, -0.28865185, -0.5365857 ]],\n",
       "      dtype=float32)>"
      ]
     },
     "execution_count": 167,
     "metadata": {},
     "output_type": "execute_result"
    }
   ],
   "source": [
    "# Deklarasi variabel random_tensor untuk membuat tensor yang berisi nilai random gunakan fungsi tf.random.normal()\n",
    "\n",
    "random_tensor = tf.random.normal([5, 5])\n",
    "random_tensor"
   ]
  },
  {
   "cell_type": "markdown",
   "id": "ef650351",
   "metadata": {},
   "source": [
    "#### 2) Buatlah sebuah tensor dengan shape(5,5) dari sebuah list dengan nilai bilangan prima dalam variable prime_tensor dan tampilkan isinya"
   ]
  },
  {
   "cell_type": "code",
   "execution_count": 168,
   "id": "2d3f1627",
   "metadata": {},
   "outputs": [
    {
     "data": {
      "text/plain": [
       "<tf.Tensor: shape=(5, 5), dtype=float32, numpy=\n",
       "array([[ 2.,  3.,  5.,  7., 11.],\n",
       "       [13., 17., 19., 23., 29.],\n",
       "       [31., 37., 41., 43., 47.],\n",
       "       [53., 59., 61., 67., 71.],\n",
       "       [73., 79., 83., 89., 97.]], dtype=float32)>"
      ]
     },
     "execution_count": 168,
     "metadata": {},
     "output_type": "execute_result"
    }
   ],
   "source": [
    "# Deklarasi variabel yang merupakan array yang berisi nilai prima\n",
    "# Di sini saya memberi batasan berupa nilai prima di bawah 100\n",
    "\n",
    "arrayPrima = [[2, 3, 5, 7, 11],\n",
    "              [13, 17, 19, 23, 29],\n",
    "              [31, 37, 41, 43, 47],\n",
    "              [53, 59, 61, 67, 71],\n",
    "              [73, 79, 83, 89, 97]]\n",
    "\n",
    "# Buat variabel prime_tensor yang menampung fungsi tf.convert_to_tensor\n",
    "\n",
    "prime_tensor = tf.convert_to_tensor(arrayPrima, dtype=tf.float32)\n",
    "prime_tensor"
   ]
  },
  {
   "cell_type": "markdown",
   "id": "8fb2be31",
   "metadata": {},
   "source": [
    "#### 3) Tampilkan dimensi dari kedua variable tersebut"
   ]
  },
  {
   "cell_type": "code",
   "execution_count": 169,
   "id": "bf48e5e3",
   "metadata": {},
   "outputs": [
    {
     "name": "stdout",
     "output_type": "stream",
     "text": [
      "Dimensi dari variabel random_tensor: (5, 5)\n",
      "Dimensi dari variabel prime_tensor: (5, 5)\n"
     ]
    }
   ],
   "source": [
    "# Untuk menampilkan dimensi dari 2 variabel di atas\n",
    "# gunakan fungsi shape dan get_shape()\n",
    "\n",
    "print(f'Dimensi dari variabel random_tensor: {random_tensor.shape}',\n",
    "     f'Dimensi dari variabel prime_tensor: {prime_tensor.get_shape()}',\n",
    "     sep='\\n')"
   ]
  },
  {
   "cell_type": "markdown",
   "id": "9f734cf2",
   "metadata": {},
   "source": [
    "#### 4) Tampilkan hasil dari perhitungan aritmetika 2 variable tersebut (Gunakan minimal 5 operator)"
   ]
  },
  {
   "cell_type": "markdown",
   "id": "01b50cb7",
   "metadata": {},
   "source": [
    "##### 4.1) Operator Pangkat"
   ]
  },
  {
   "cell_type": "code",
   "execution_count": 170,
   "id": "f575cc34",
   "metadata": {},
   "outputs": [
    {
     "data": {
      "text/plain": [
       "<tf.Tensor: shape=(5, 5), dtype=float32, numpy=\n",
       "array([[1.07207194e-01, 3.19135368e-01, 1.37903976e+00, 6.84985146e-02,\n",
       "        2.64070153e-01],\n",
       "       [4.63550746e-01, 1.19770133e+00, 2.30448077e-05, 1.19246859e-02,\n",
       "        2.00084269e-01],\n",
       "       [4.08558175e-02, 1.05740595e+00, 2.35634971e+00, 3.16127753e+00,\n",
       "        1.48380632e-05],\n",
       "       [2.05106378e+00, 2.19972730e-02, 1.71602041e-01, 4.14668941e+00,\n",
       "        1.76636335e-02],\n",
       "       [2.83823785e-04, 1.06055886e-01, 2.46302485e-01, 8.33198950e-02,\n",
       "        2.87924200e-01]], dtype=float32)>"
      ]
     },
     "execution_count": 170,
     "metadata": {},
     "output_type": "execute_result"
    }
   ],
   "source": [
    "# Gunakan fungsi tf.square() atau tf.pow() untuk melakukan operasi perpangkatan dari 2 tensor\n",
    "\n",
    "tf.square(random_tensor, prime_tensor)"
   ]
  },
  {
   "cell_type": "markdown",
   "id": "75faa7f1",
   "metadata": {},
   "source": [
    "##### 4.2) Operator Logaritma"
   ]
  },
  {
   "cell_type": "code",
   "execution_count": 171,
   "id": "054efbc8",
   "metadata": {
    "scrolled": true
   },
   "outputs": [
    {
     "data": {
      "text/plain": [
       "<tf.Tensor: shape=(5, 5), dtype=float32, numpy=\n",
       "array([[        nan,         nan,         nan, -1.3404716 , -0.66577023],\n",
       "       [        nan,         nan,         nan, -2.2145722 ,         nan],\n",
       "       [        nan,         nan,         nan,         nan,         nan],\n",
       "       [ 0.35917932,         nan,         nan,  0.7111551 ,         nan],\n",
       "       [        nan,         nan, -0.7005974 ,         nan,         nan]],\n",
       "      dtype=float32)>"
      ]
     },
     "execution_count": 171,
     "metadata": {},
     "output_type": "execute_result"
    }
   ],
   "source": [
    "# Gunakan fungsi tf.math.log() untuk melakukan operasi logaritma dari 2 tensor\n",
    "# Perlu diingat bahwa tensor harus memiliki dtype berupa float, baik float32 maupun float64\n",
    "\n",
    "tf.math.log(random_tensor, prime_tensor)"
   ]
  },
  {
   "cell_type": "markdown",
   "id": "b12ba5d1",
   "metadata": {},
   "source": [
    "##### 4.3) Operator Pembagian"
   ]
  },
  {
   "cell_type": "code",
   "execution_count": 172,
   "id": "1cb36383",
   "metadata": {},
   "outputs": [
    {
     "data": {
      "text/plain": [
       "<tf.Tensor: shape=(5, 5), dtype=float32, numpy=\n",
       "array([[-1.6371255e-01, -1.8830688e-01, -2.3486504e-01,  3.7388887e-02,\n",
       "         4.6716142e-02],\n",
       "       [-5.2372739e-02, -6.4376198e-02, -2.5265795e-04,  4.7478350e-03,\n",
       "        -1.5424407e-02],\n",
       "       [-6.5202652e-03, -2.7791958e-02, -3.7440017e-02, -4.1348796e-02,\n",
       "        -8.1957885e-05],\n",
       "       [ 2.7021766e-02, -2.5138098e-03, -6.7909635e-03,  3.0393166e-02,\n",
       "        -1.8718959e-03],\n",
       "       [-2.3078179e-04, -4.1223066e-03,  5.9793820e-03, -3.2432792e-03,\n",
       "        -5.5318112e-03]], dtype=float32)>"
      ]
     },
     "execution_count": 172,
     "metadata": {},
     "output_type": "execute_result"
    }
   ],
   "source": [
    "# Gunakan fungsi tf.divide() untuk melakukan operasi pembagian dari 2 tensor\n",
    "\n",
    "tf.divide(random_tensor, prime_tensor)"
   ]
  },
  {
   "cell_type": "markdown",
   "id": "f1c63b91",
   "metadata": {},
   "source": [
    "##### 4.4) Operator Perkalian"
   ]
  },
  {
   "cell_type": "code",
   "execution_count": 173,
   "id": "e588525a",
   "metadata": {},
   "outputs": [
    {
     "data": {
      "text/plain": [
       "<tf.Tensor: shape=(5, 5), dtype=float32, numpy=\n",
       "array([[-6.5485018e-01, -1.6947620e+00, -5.8716259e+00,  1.8320554e+00,\n",
       "         5.6526532e+00],\n",
       "       [-8.8509932e+00, -1.8604721e+01, -9.1209516e-02,  2.5116048e+00,\n",
       "        -1.2971926e+01],\n",
       "       [-6.2659745e+00, -3.8047192e+01, -6.2936665e+01, -7.6453926e+01,\n",
       "        -1.8104498e-01],\n",
       "       [ 7.5904137e+01, -8.7505713e+00, -2.5269175e+01,  1.3643492e+02,\n",
       "        -9.4362268e+00],\n",
       "       [-1.2298361e+00, -2.5727316e+01,  4.1191963e+01, -2.5690016e+01,\n",
       "        -5.2048813e+01]], dtype=float32)>"
      ]
     },
     "execution_count": 173,
     "metadata": {},
     "output_type": "execute_result"
    }
   ],
   "source": [
    "# Gunakan fungsi tf.multiply() untuk melakukan operasi perkalian dari 2 tensor\n",
    "\n",
    "tf.multiply(random_tensor, prime_tensor)"
   ]
  },
  {
   "cell_type": "markdown",
   "id": "e85f47e5",
   "metadata": {},
   "source": [
    "##### 4.5) Operator Pengurangan"
   ]
  },
  {
   "cell_type": "code",
   "execution_count": 174,
   "id": "a21fc99b",
   "metadata": {},
   "outputs": [
    {
     "data": {
      "text/plain": [
       "<tf.Tensor: shape=(5, 5), dtype=float32, numpy=\n",
       "array([[ -2.327425 ,  -3.5649207,  -6.174325 ,  -6.738278 , -10.486122 ],\n",
       "       [-13.680845 , -18.094395 , -19.0048   , -22.8908   , -29.447308 ],\n",
       "       [-31.202127 , -38.0283   , -42.53504  , -44.778    , -47.003853 ],\n",
       "       [-51.56785  , -59.148315 , -61.41425  , -64.96366  , -71.132904 ],\n",
       "       [-73.016846 , -79.32566  , -82.50371  , -89.28865  , -97.53658  ]],\n",
       "      dtype=float32)>"
      ]
     },
     "execution_count": 174,
     "metadata": {},
     "output_type": "execute_result"
    }
   ],
   "source": [
    "# Gunakan fungsi tf.subtract() untuk melakukan operasi perkurangan dari 2 tensor\n",
    "\n",
    "tf.subtract(random_tensor, prime_tensor)"
   ]
  },
  {
   "cell_type": "markdown",
   "id": "5853bf13",
   "metadata": {},
   "source": [
    "##### 4.6) Operator Penambahan"
   ]
  },
  {
   "cell_type": "code",
   "execution_count": 175,
   "id": "92056bbd",
   "metadata": {},
   "outputs": [
    {
     "data": {
      "text/plain": [
       "<tf.Tensor: shape=(5, 5), dtype=float32, numpy=\n",
       "array([[ 1.6725749,  2.4350793,  3.8256748,  7.261722 , 11.513878 ],\n",
       "       [12.319155 , 15.905604 , 18.9952   , 23.1092   , 28.552692 ],\n",
       "       [30.797873 , 35.9717   , 39.46496  , 41.222    , 46.996147 ],\n",
       "       [54.43215  , 58.851685 , 60.58575  , 69.03634  , 70.867096 ],\n",
       "       [72.983154 , 78.67434  , 83.49629  , 88.71135  , 96.46342  ]],\n",
       "      dtype=float32)>"
      ]
     },
     "execution_count": 175,
     "metadata": {},
     "output_type": "execute_result"
    }
   ],
   "source": [
    "# Gunakan fungsi tf.add() untuk melakukan operasi pertambahan dari 2 tensor\n",
    "\n",
    "tf.add(random_tensor, prime_tensor)"
   ]
  },
  {
   "cell_type": "markdown",
   "id": "65693df6",
   "metadata": {},
   "source": [
    "#### 5) Tampilkan nilai maksimal dan minimal dari variable random_tensor"
   ]
  },
  {
   "cell_type": "code",
   "execution_count": 176,
   "id": "cc1125df",
   "metadata": {},
   "outputs": [
    {
     "name": "stdout",
     "output_type": "stream",
     "text": [
      "Nilai maksimum dari Tensor random_tensor berdasarkan kolom:\n",
      "Nilai Ke-1: 0.261722\t\tKolom: 3\n",
      "Nilai Ke-2: 0.109200\t\tKolom: 3\n",
      "Nilai Ke-3: -0.003852\t\tKolom: 4\n",
      "Nilai Ke-4: 2.036342\t\tKolom: 3\n",
      "Nilai Ke-5: -0.016847\t\tKolom: 0\n",
      "\n",
      "Nilai maksimum dari Tensor random_tensor berdasarkan baris:\n",
      "Nilai Ke-1: 0.513878\t\tKolom: 4\n",
      "Nilai Ke-2: 0.109200\t\tKolom: 3\n",
      "Nilai Ke-3: -0.003852\t\tKolom: 4\n",
      "Nilai Ke-4: 2.036342\t\tKolom: 3\n",
      "Nilai Ke-5: 0.496289\t\tKolom: 2\n",
      "\n",
      "Nilai minimum dari Tensor random_tensor berdasarkan kolom:\n",
      "Nilai Ke-1: -0.564921\t\tKolom: 1\n",
      "Nilai Ke-2: -1.094395\t\tKolom: 1\n",
      "Nilai Ke-3: -1.535041\t\tKolom: 2\n",
      "Nilai Ke-4: -0.414249\t\tKolom: 2\n",
      "Nilai Ke-5: -0.536586\t\tKolom: 4\n",
      "\n",
      "Nilai minimum dari Tensor random_tensor berdasarkan baris:\n",
      "Nilai Ke-1: -1.174325\t\tKolom: 2\n",
      "Nilai Ke-2: -1.094395\t\tKolom: 1\n",
      "Nilai Ke-3: -1.777998\t\tKolom: 3\n",
      "Nilai Ke-4: -0.414249\t\tKolom: 2\n",
      "Nilai Ke-5: -0.536586\t\tKolom: 4\n"
     ]
    }
   ],
   "source": [
    "# Untuk menampilkan nilai maksimal dan minimal dari variabel random_tensor\n",
    "# gunakan fungsi tf.argmax() dan tf.argmin()\n",
    "\n",
    "print('Nilai maksimum dari Tensor random_tensor berdasarkan kolom:')\n",
    "for x, y in enumerate(tf.argmax(random_tensor, axis=0)):\n",
    "    print('Nilai Ke-%d: %f\\t\\tKolom: %d' % (x + 1, random_tensor[x, y].numpy(), y))\n",
    "\n",
    "print('\\nNilai maksimum dari Tensor random_tensor berdasarkan baris:')\n",
    "for x, y in enumerate(tf.argmax(random_tensor, axis=1)):\n",
    "    print('Nilai Ke-%d: %f\\t\\tKolom: %d' % (x + 1, random_tensor[x, y].numpy(), y))\n",
    "    \n",
    "print('\\nNilai minimum dari Tensor random_tensor berdasarkan kolom:')\n",
    "for x, y in enumerate(tf.argmin(random_tensor, axis=0)):\n",
    "    print('Nilai Ke-%d: %f\\t\\tKolom: %d' % (x + 1, random_tensor[x, y].numpy(), y))\n",
    "    \n",
    "print('\\nNilai minimum dari Tensor random_tensor berdasarkan baris:')\n",
    "for x, y in enumerate(tf.argmin(random_tensor, axis=1)):\n",
    "    print('Nilai Ke-%d: %f\\t\\tKolom: %d' % (x + 1, random_tensor[x, y].numpy(), y))"
   ]
  },
  {
   "cell_type": "markdown",
   "id": "b0a4c256",
   "metadata": {},
   "source": [
    "#### 6) Tampilkan hasil dari penggabungan variable random_tensor dengan prime_tensor (concatenation)"
   ]
  },
  {
   "cell_type": "code",
   "execution_count": 177,
   "id": "6a191fcb",
   "metadata": {},
   "outputs": [
    {
     "data": {
      "text/plain": [
       "<tf.Tensor: shape=(10, 5), dtype=float32, numpy=\n",
       "array([[-3.2742509e-01, -5.6492066e-01, -1.1743252e+00,  2.6172221e-01,\n",
       "         5.1387757e-01],\n",
       "       [-6.8084562e-01, -1.0943954e+00, -4.8005008e-03,  1.0920021e-01,\n",
       "        -4.4730780e-01],\n",
       "       [-2.0212822e-01, -1.0283024e+00, -1.5350406e+00, -1.7779982e+00,\n",
       "        -3.8520207e-03],\n",
       "       [ 1.4321536e+00, -1.4831477e-01, -4.1424876e-01,  2.0363421e+00,\n",
       "        -1.3290460e-01],\n",
       "       [-1.6847070e-02, -3.2566223e-01,  4.9628872e-01, -2.8865185e-01,\n",
       "        -5.3658569e-01],\n",
       "       [ 2.0000000e+00,  3.0000000e+00,  5.0000000e+00,  7.0000000e+00,\n",
       "         1.1000000e+01],\n",
       "       [ 1.3000000e+01,  1.7000000e+01,  1.9000000e+01,  2.3000000e+01,\n",
       "         2.9000000e+01],\n",
       "       [ 3.1000000e+01,  3.7000000e+01,  4.1000000e+01,  4.3000000e+01,\n",
       "         4.7000000e+01],\n",
       "       [ 5.3000000e+01,  5.9000000e+01,  6.1000000e+01,  6.7000000e+01,\n",
       "         7.1000000e+01],\n",
       "       [ 7.3000000e+01,  7.9000000e+01,  8.3000000e+01,  8.9000000e+01,\n",
       "         9.7000000e+01]], dtype=float32)>"
      ]
     },
     "execution_count": 177,
     "metadata": {},
     "output_type": "execute_result"
    }
   ],
   "source": [
    "# Untuk menggabungkan 2 tensor, gunakan fungsi tf.concat()\n",
    "\n",
    "tf.concat([random_tensor, prime_tensor], axis=0)"
   ]
  },
  {
   "cell_type": "markdown",
   "id": "ce8e3c52",
   "metadata": {},
   "source": [
    "#### 7) Tampilkan hasil sorting dari kedua variable di atas. (descending)"
   ]
  },
  {
   "cell_type": "markdown",
   "id": "d7b85e94",
   "metadata": {},
   "source": [
    "##### 7.1) Tensor random_tensor"
   ]
  },
  {
   "cell_type": "code",
   "execution_count": 178,
   "id": "ae9625da",
   "metadata": {},
   "outputs": [
    {
     "name": "stdout",
     "output_type": "stream",
     "text": [
      "Tensor random_tensor setelah disortir secara descending:\n"
     ]
    },
    {
     "data": {
      "text/plain": [
       "<tf.Tensor: shape=(5, 5), dtype=float32, numpy=\n",
       "array([[ 0.5138776 ,  0.2617222 , -0.3274251 , -0.56492066, -1.1743252 ],\n",
       "       [ 0.10920021, -0.0048005 , -0.4473078 , -0.6808456 , -1.0943954 ],\n",
       "       [-0.00385202, -0.20212822, -1.0283024 , -1.5350406 , -1.7779982 ],\n",
       "       [ 2.0363421 ,  1.4321536 , -0.1329046 , -0.14831477, -0.41424876],\n",
       "       [ 0.49628872, -0.01684707, -0.28865185, -0.32566223, -0.5365857 ]],\n",
       "      dtype=float32)>"
      ]
     },
     "execution_count": 178,
     "metadata": {},
     "output_type": "execute_result"
    }
   ],
   "source": [
    "# Untuk melakukan proses sortir secara descending, gunakan fungsi tf.sort() dengan parameter direction='DESCENDING'\n",
    "\n",
    "print('Tensor random_tensor setelah disortir secara descending:')\n",
    "tf.sort(random_tensor.numpy(), direction='DESCENDING')"
   ]
  },
  {
   "cell_type": "markdown",
   "id": "f47a7ea1",
   "metadata": {},
   "source": [
    "##### 7.2) Tensor prime_tensor"
   ]
  },
  {
   "cell_type": "code",
   "execution_count": 179,
   "id": "ff57689d",
   "metadata": {},
   "outputs": [
    {
     "name": "stdout",
     "output_type": "stream",
     "text": [
      "Tensor prime_tensor setelah disortir secara descending:\n"
     ]
    },
    {
     "data": {
      "text/plain": [
       "<tf.Tensor: shape=(5, 5), dtype=float32, numpy=\n",
       "array([[11.,  7.,  5.,  3.,  2.],\n",
       "       [29., 23., 19., 17., 13.],\n",
       "       [47., 43., 41., 37., 31.],\n",
       "       [71., 67., 61., 59., 53.],\n",
       "       [97., 89., 83., 79., 73.]], dtype=float32)>"
      ]
     },
     "execution_count": 179,
     "metadata": {},
     "output_type": "execute_result"
    }
   ],
   "source": [
    "# Untuk melakukan proses sortir secara descending, gunakan fungsi tf.sort() dengan parameter direction='DESCENDING'\n",
    "\n",
    "print('Tensor prime_tensor setelah disortir secara descending:')\n",
    "tf.sort(prime_tensor.numpy(), direction='DESCENDING')"
   ]
  },
  {
   "cell_type": "code",
   "execution_count": null,
   "id": "ac455035",
   "metadata": {},
   "outputs": [],
   "source": []
  }
 ],
 "metadata": {
  "kernelspec": {
   "display_name": "Python 3 (ipykernel)",
   "language": "python",
   "name": "python3"
  },
  "language_info": {
   "codemirror_mode": {
    "name": "ipython",
    "version": 3
   },
   "file_extension": ".py",
   "mimetype": "text/x-python",
   "name": "python",
   "nbconvert_exporter": "python",
   "pygments_lexer": "ipython3",
   "version": "3.10.7"
  }
 },
 "nbformat": 4,
 "nbformat_minor": 5
}
