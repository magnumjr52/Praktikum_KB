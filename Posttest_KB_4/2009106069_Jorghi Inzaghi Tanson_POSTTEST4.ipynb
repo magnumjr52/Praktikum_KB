{
 "cells": [
  {
   "cell_type": "markdown",
   "id": "ff274088",
   "metadata": {},
   "source": [
    "# POSTTEST 4 - Modul Data Preprocessing\n",
    "##### Nama : Jorghi Inzaghi Tanson\n",
    "##### NIM : 2009106069"
   ]
  },
  {
   "cell_type": "markdown",
   "id": "3751fa32",
   "metadata": {},
   "source": [
    "#### Import Library yang digunakan"
   ]
  },
  {
   "cell_type": "code",
   "execution_count": 249,
   "id": "78132848",
   "metadata": {},
   "outputs": [],
   "source": [
    "import pandas as pd\n",
    "import numpy as np\n",
    "from sklearn.model_selection import train_test_split\n",
    "from sklearn.preprocessing import MinMaxScaler\n",
    "from sklearn.preprocessing import StandardScaler\n",
    "from sklearn.impute import SimpleImputer\n",
    "from sklearn.preprocessing import OneHotEncoder"
   ]
  },
  {
   "cell_type": "markdown",
   "id": "6490bea8",
   "metadata": {},
   "source": [
    "#### Ubah dataset yang diunduh ke dalam bentuk dataframe dan tampilkan isinya"
   ]
  },
  {
   "cell_type": "code",
   "execution_count": 250,
   "id": "702cecb7",
   "metadata": {},
   "outputs": [
    {
     "data": {
      "text/html": [
       "<div>\n",
       "<style scoped>\n",
       "    .dataframe tbody tr th:only-of-type {\n",
       "        vertical-align: middle;\n",
       "    }\n",
       "\n",
       "    .dataframe tbody tr th {\n",
       "        vertical-align: top;\n",
       "    }\n",
       "\n",
       "    .dataframe thead th {\n",
       "        text-align: right;\n",
       "    }\n",
       "</style>\n",
       "<table border=\"1\" class=\"dataframe\">\n",
       "  <thead>\n",
       "    <tr style=\"text-align: right;\">\n",
       "      <th></th>\n",
       "      <th>Age</th>\n",
       "      <th>Sex</th>\n",
       "      <th>ChestPainType</th>\n",
       "      <th>RestingBP</th>\n",
       "      <th>Cholesterol</th>\n",
       "      <th>FastingBS</th>\n",
       "      <th>RestingECG</th>\n",
       "      <th>MaxHR</th>\n",
       "      <th>ExerciseAngina</th>\n",
       "      <th>Oldpeak</th>\n",
       "      <th>ST_Slope</th>\n",
       "      <th>HeartDisease</th>\n",
       "    </tr>\n",
       "  </thead>\n",
       "  <tbody>\n",
       "    <tr>\n",
       "      <th>0</th>\n",
       "      <td>40</td>\n",
       "      <td>M</td>\n",
       "      <td>ATA</td>\n",
       "      <td>140</td>\n",
       "      <td>289.0</td>\n",
       "      <td>0</td>\n",
       "      <td>Normal</td>\n",
       "      <td>172</td>\n",
       "      <td>N</td>\n",
       "      <td>0.0</td>\n",
       "      <td>Up</td>\n",
       "      <td>No</td>\n",
       "    </tr>\n",
       "    <tr>\n",
       "      <th>1</th>\n",
       "      <td>49</td>\n",
       "      <td>F</td>\n",
       "      <td>NAP</td>\n",
       "      <td>160</td>\n",
       "      <td>180.0</td>\n",
       "      <td>0</td>\n",
       "      <td>Normal</td>\n",
       "      <td>156</td>\n",
       "      <td>N</td>\n",
       "      <td>1.0</td>\n",
       "      <td>Flat</td>\n",
       "      <td>Yes</td>\n",
       "    </tr>\n",
       "    <tr>\n",
       "      <th>2</th>\n",
       "      <td>37</td>\n",
       "      <td>M</td>\n",
       "      <td>ATA</td>\n",
       "      <td>130</td>\n",
       "      <td>283.0</td>\n",
       "      <td>0</td>\n",
       "      <td>ST</td>\n",
       "      <td>98</td>\n",
       "      <td>N</td>\n",
       "      <td>0.0</td>\n",
       "      <td>Up</td>\n",
       "      <td>No</td>\n",
       "    </tr>\n",
       "    <tr>\n",
       "      <th>3</th>\n",
       "      <td>48</td>\n",
       "      <td>F</td>\n",
       "      <td>ASY</td>\n",
       "      <td>138</td>\n",
       "      <td>214.0</td>\n",
       "      <td>0</td>\n",
       "      <td>Normal</td>\n",
       "      <td>108</td>\n",
       "      <td>Y</td>\n",
       "      <td>1.5</td>\n",
       "      <td>Flat</td>\n",
       "      <td>Yes</td>\n",
       "    </tr>\n",
       "    <tr>\n",
       "      <th>4</th>\n",
       "      <td>54</td>\n",
       "      <td>M</td>\n",
       "      <td>NAP</td>\n",
       "      <td>150</td>\n",
       "      <td>195.0</td>\n",
       "      <td>0</td>\n",
       "      <td>Normal</td>\n",
       "      <td>122</td>\n",
       "      <td>N</td>\n",
       "      <td>0.0</td>\n",
       "      <td>Up</td>\n",
       "      <td>No</td>\n",
       "    </tr>\n",
       "    <tr>\n",
       "      <th>...</th>\n",
       "      <td>...</td>\n",
       "      <td>...</td>\n",
       "      <td>...</td>\n",
       "      <td>...</td>\n",
       "      <td>...</td>\n",
       "      <td>...</td>\n",
       "      <td>...</td>\n",
       "      <td>...</td>\n",
       "      <td>...</td>\n",
       "      <td>...</td>\n",
       "      <td>...</td>\n",
       "      <td>...</td>\n",
       "    </tr>\n",
       "    <tr>\n",
       "      <th>920</th>\n",
       "      <td>45</td>\n",
       "      <td>M</td>\n",
       "      <td>TA</td>\n",
       "      <td>110</td>\n",
       "      <td>NaN</td>\n",
       "      <td>0</td>\n",
       "      <td>Normal</td>\n",
       "      <td>132</td>\n",
       "      <td>N</td>\n",
       "      <td>1.2</td>\n",
       "      <td>Flat</td>\n",
       "      <td>Yes</td>\n",
       "    </tr>\n",
       "    <tr>\n",
       "      <th>921</th>\n",
       "      <td>68</td>\n",
       "      <td>M</td>\n",
       "      <td>ASY</td>\n",
       "      <td>144</td>\n",
       "      <td>193.0</td>\n",
       "      <td>1</td>\n",
       "      <td>Normal</td>\n",
       "      <td>141</td>\n",
       "      <td>N</td>\n",
       "      <td>NaN</td>\n",
       "      <td>Flat</td>\n",
       "      <td>Yes</td>\n",
       "    </tr>\n",
       "    <tr>\n",
       "      <th>922</th>\n",
       "      <td>57</td>\n",
       "      <td>M</td>\n",
       "      <td>NaN</td>\n",
       "      <td>130</td>\n",
       "      <td>NaN</td>\n",
       "      <td>0</td>\n",
       "      <td>Normal</td>\n",
       "      <td>115</td>\n",
       "      <td>Y</td>\n",
       "      <td>NaN</td>\n",
       "      <td>NaN</td>\n",
       "      <td>Yes</td>\n",
       "    </tr>\n",
       "    <tr>\n",
       "      <th>923</th>\n",
       "      <td>57</td>\n",
       "      <td>F</td>\n",
       "      <td>ATA</td>\n",
       "      <td>130</td>\n",
       "      <td>236.0</td>\n",
       "      <td>0</td>\n",
       "      <td>LVH</td>\n",
       "      <td>174</td>\n",
       "      <td>N</td>\n",
       "      <td>0.0</td>\n",
       "      <td>Flat</td>\n",
       "      <td>Yes</td>\n",
       "    </tr>\n",
       "    <tr>\n",
       "      <th>924</th>\n",
       "      <td>38</td>\n",
       "      <td>M</td>\n",
       "      <td>NAP</td>\n",
       "      <td>138</td>\n",
       "      <td>175.0</td>\n",
       "      <td>0</td>\n",
       "      <td>Normal</td>\n",
       "      <td>173</td>\n",
       "      <td>N</td>\n",
       "      <td>0.0</td>\n",
       "      <td>Up</td>\n",
       "      <td>No</td>\n",
       "    </tr>\n",
       "  </tbody>\n",
       "</table>\n",
       "<p>925 rows × 12 columns</p>\n",
       "</div>"
      ],
      "text/plain": [
       "     Age Sex ChestPainType  RestingBP  Cholesterol  FastingBS RestingECG  \\\n",
       "0     40   M           ATA        140        289.0          0     Normal   \n",
       "1     49   F           NAP        160        180.0          0     Normal   \n",
       "2     37   M           ATA        130        283.0          0         ST   \n",
       "3     48   F           ASY        138        214.0          0     Normal   \n",
       "4     54   M           NAP        150        195.0          0     Normal   \n",
       "..   ...  ..           ...        ...          ...        ...        ...   \n",
       "920   45   M            TA        110          NaN          0     Normal   \n",
       "921   68   M           ASY        144        193.0          1     Normal   \n",
       "922   57   M           NaN        130          NaN          0     Normal   \n",
       "923   57   F           ATA        130        236.0          0        LVH   \n",
       "924   38   M           NAP        138        175.0          0     Normal   \n",
       "\n",
       "     MaxHR ExerciseAngina  Oldpeak ST_Slope HeartDisease  \n",
       "0      172              N      0.0       Up           No  \n",
       "1      156              N      1.0     Flat          Yes  \n",
       "2       98              N      0.0       Up           No  \n",
       "3      108              Y      1.5     Flat          Yes  \n",
       "4      122              N      0.0       Up           No  \n",
       "..     ...            ...      ...      ...          ...  \n",
       "920    132              N      1.2     Flat          Yes  \n",
       "921    141              N      NaN     Flat          Yes  \n",
       "922    115              Y      NaN      NaN          Yes  \n",
       "923    174              N      0.0     Flat          Yes  \n",
       "924    173              N      0.0       Up           No  \n",
       "\n",
       "[925 rows x 12 columns]"
      ]
     },
     "execution_count": 250,
     "metadata": {},
     "output_type": "execute_result"
    }
   ],
   "source": [
    "dFrame = pd.read_csv('heart.csv')\n",
    "dFrame"
   ]
  },
  {
   "cell_type": "markdown",
   "id": "60cf9d00",
   "metadata": {},
   "source": [
    "#### Tampilkan informasi dari dataframe"
   ]
  },
  {
   "cell_type": "code",
   "execution_count": 251,
   "id": "06802ba0",
   "metadata": {},
   "outputs": [
    {
     "name": "stdout",
     "output_type": "stream",
     "text": [
      "<class 'pandas.core.frame.DataFrame'>\n",
      "RangeIndex: 925 entries, 0 to 924\n",
      "Data columns (total 12 columns):\n",
      " #   Column          Non-Null Count  Dtype  \n",
      "---  ------          --------------  -----  \n",
      " 0   Age             925 non-null    int64  \n",
      " 1   Sex             925 non-null    object \n",
      " 2   ChestPainType   923 non-null    object \n",
      " 3   RestingBP       925 non-null    int64  \n",
      " 4   Cholesterol     923 non-null    float64\n",
      " 5   FastingBS       925 non-null    int64  \n",
      " 6   RestingECG      925 non-null    object \n",
      " 7   MaxHR           925 non-null    int64  \n",
      " 8   ExerciseAngina  925 non-null    object \n",
      " 9   Oldpeak         923 non-null    float64\n",
      " 10  ST_Slope        924 non-null    object \n",
      " 11  HeartDisease    925 non-null    object \n",
      "dtypes: float64(2), int64(4), object(6)\n",
      "memory usage: 86.8+ KB\n"
     ]
    }
   ],
   "source": [
    "dFrame.info()"
   ]
  },
  {
   "cell_type": "markdown",
   "id": "be80871c",
   "metadata": {},
   "source": [
    "#### 1) Bagi dataframe menjadi 2 bagian menggunakan teknik Data Split:\n",
    "* Data Training dengan proporsi 70%\n",
    "* Data Testing dengan proporsi 30%"
   ]
  },
  {
   "cell_type": "markdown",
   "id": "a1815eb6",
   "metadata": {},
   "source": [
    "##### Deklarasikan variabel yang menampung data dan label. Di sini saya menggunakan istilah variabel independen untuk data dan variabel dependen untuk label"
   ]
  },
  {
   "cell_type": "code",
   "execution_count": 252,
   "id": "aa17cf8f",
   "metadata": {},
   "outputs": [],
   "source": [
    "varIndependen = dFrame[['Age', 'Sex', 'ChestPainType', 'RestingBP', 'Cholesterol', 'FastingBS', 'RestingECG', 'MaxHR', 'ExerciseAngina', 'Oldpeak', 'ST_Slope']]\n",
    "varDependen = dFrame['HeartDisease']"
   ]
  },
  {
   "cell_type": "markdown",
   "id": "2377df26",
   "metadata": {},
   "source": [
    "##### Berikut adalah syntax untuk membagi data training dan data testing menggunakan library scikit-learn. Pada parameter test_size isi dengan nilai .3 yang mengindikasikan bahwa proporsi data testing akan sebesar 30% dari dataframe"
   ]
  },
  {
   "cell_type": "code",
   "execution_count": 253,
   "id": "1f21a841",
   "metadata": {},
   "outputs": [],
   "source": [
    "xTrain, xTest, yTrain, yTest = train_test_split(varIndependen, varDependen, test_size=.3)"
   ]
  },
  {
   "cell_type": "markdown",
   "id": "e0aa1b60",
   "metadata": {},
   "source": [
    "##### Tampilkan jumlah data train, label train, data test, label test, dan total dataset yang dimiliki"
   ]
  },
  {
   "cell_type": "code",
   "execution_count": 254,
   "id": "6b1dd034",
   "metadata": {},
   "outputs": [
    {
     "name": "stdout",
     "output_type": "stream",
     "text": [
      "Jumlah data train\t: 647 Data\n",
      "Jumlah label train\t: 647 Data\n",
      "Jumlah data test\t: 278 Data\n",
      "Jumlah label test\t: 278 Data\n",
      "Jumlah record\t\t: 925 Data\n"
     ]
    }
   ],
   "source": [
    "print('Jumlah data train\\t: %d Data' % len(xTrain),\n",
    "      'Jumlah label train\\t: %d Data' % len(yTrain),\n",
    "      'Jumlah data test\\t: %d Data' % len(xTest),\n",
    "      'Jumlah label test\\t: %d Data' % len(yTest),\n",
    "      'Jumlah record\\t\\t: %d Data' % len(dFrame),\n",
    "      sep='\\n')"
   ]
  },
  {
   "cell_type": "markdown",
   "id": "309b2e42",
   "metadata": {},
   "source": [
    "#### 2) Lakukan normalisasi data pada salah satu attribute menggunakan Min Max scaler. Di sini saya akan mencoba menormalisasikan atribut MaxHR"
   ]
  },
  {
   "cell_type": "markdown",
   "id": "f9d79256",
   "metadata": {},
   "source": [
    "##### Buat dataframe baru dengan menyalin dataframe sebelumnya untuk dilakukan proses normalisasi data. Karena saya hanya menggunakan 1 atribut, maka atribut yang tersisa perlu dihapus menggunakan fungsi drop"
   ]
  },
  {
   "cell_type": "code",
   "execution_count": 255,
   "id": "0e562b6a",
   "metadata": {},
   "outputs": [],
   "source": [
    "dfCopyNormalize = dFrame.copy()\n",
    "dfCopyNormalize.drop(['Age', 'Sex', 'ChestPainType', 'RestingBP', 'Cholesterol', 'FastingBS', 'RestingECG', 'ExerciseAngina', 'Oldpeak', 'ST_Slope', 'HeartDisease'], axis=1, inplace=True)"
   ]
  },
  {
   "cell_type": "markdown",
   "id": "7471899b",
   "metadata": {},
   "source": [
    "##### Buat fungsi normalisasi data dengan menggunakan syntax dari Min Max Scaler"
   ]
  },
  {
   "cell_type": "code",
   "execution_count": 256,
   "id": "e4461be5",
   "metadata": {},
   "outputs": [],
   "source": [
    "scaler = MinMaxScaler()"
   ]
  },
  {
   "cell_type": "markdown",
   "id": "324a7cfd",
   "metadata": {},
   "source": [
    "##### Lakukan proses penskalaan data menggunakan fungsi fit_transform"
   ]
  },
  {
   "cell_type": "code",
   "execution_count": 257,
   "id": "0666cbac",
   "metadata": {},
   "outputs": [],
   "source": [
    "dsNormalize = scaler.fit_transform(dfCopyNormalize)"
   ]
  },
  {
   "cell_type": "markdown",
   "id": "11ed32eb",
   "metadata": {},
   "source": [
    "##### Ubah atribut yang telah ternormalisasi ke dalam bentuk dataframe"
   ]
  },
  {
   "cell_type": "code",
   "execution_count": 258,
   "id": "ebebeeae",
   "metadata": {},
   "outputs": [],
   "source": [
    "dfNormalized = pd.DataFrame(dsNormalize)"
   ]
  },
  {
   "cell_type": "markdown",
   "id": "75323ac9",
   "metadata": {},
   "source": [
    "##### Kembalikan kolom yang ternormalisasi menjadi semula"
   ]
  },
  {
   "cell_type": "code",
   "execution_count": 259,
   "id": "961ce1d8",
   "metadata": {},
   "outputs": [],
   "source": [
    "dfNormalized.rename(columns={0:'MaxHR'}, inplace=True)"
   ]
  },
  {
   "cell_type": "markdown",
   "id": "4009654a",
   "metadata": {},
   "source": [
    "##### Tampilkan isi dataframe yang berisi atribut yang telah ternormalisasi"
   ]
  },
  {
   "cell_type": "code",
   "execution_count": 260,
   "id": "f71a018f",
   "metadata": {},
   "outputs": [
    {
     "data": {
      "text/html": [
       "<div>\n",
       "<style scoped>\n",
       "    .dataframe tbody tr th:only-of-type {\n",
       "        vertical-align: middle;\n",
       "    }\n",
       "\n",
       "    .dataframe tbody tr th {\n",
       "        vertical-align: top;\n",
       "    }\n",
       "\n",
       "    .dataframe thead th {\n",
       "        text-align: right;\n",
       "    }\n",
       "</style>\n",
       "<table border=\"1\" class=\"dataframe\">\n",
       "  <thead>\n",
       "    <tr style=\"text-align: right;\">\n",
       "      <th></th>\n",
       "      <th>MaxHR</th>\n",
       "    </tr>\n",
       "  </thead>\n",
       "  <tbody>\n",
       "    <tr>\n",
       "      <th>0</th>\n",
       "      <td>0.788732</td>\n",
       "    </tr>\n",
       "    <tr>\n",
       "      <th>1</th>\n",
       "      <td>0.676056</td>\n",
       "    </tr>\n",
       "    <tr>\n",
       "      <th>2</th>\n",
       "      <td>0.267606</td>\n",
       "    </tr>\n",
       "    <tr>\n",
       "      <th>3</th>\n",
       "      <td>0.338028</td>\n",
       "    </tr>\n",
       "    <tr>\n",
       "      <th>4</th>\n",
       "      <td>0.436620</td>\n",
       "    </tr>\n",
       "    <tr>\n",
       "      <th>...</th>\n",
       "      <td>...</td>\n",
       "    </tr>\n",
       "    <tr>\n",
       "      <th>920</th>\n",
       "      <td>0.507042</td>\n",
       "    </tr>\n",
       "    <tr>\n",
       "      <th>921</th>\n",
       "      <td>0.570423</td>\n",
       "    </tr>\n",
       "    <tr>\n",
       "      <th>922</th>\n",
       "      <td>0.387324</td>\n",
       "    </tr>\n",
       "    <tr>\n",
       "      <th>923</th>\n",
       "      <td>0.802817</td>\n",
       "    </tr>\n",
       "    <tr>\n",
       "      <th>924</th>\n",
       "      <td>0.795775</td>\n",
       "    </tr>\n",
       "  </tbody>\n",
       "</table>\n",
       "<p>925 rows × 1 columns</p>\n",
       "</div>"
      ],
      "text/plain": [
       "        MaxHR\n",
       "0    0.788732\n",
       "1    0.676056\n",
       "2    0.267606\n",
       "3    0.338028\n",
       "4    0.436620\n",
       "..        ...\n",
       "920  0.507042\n",
       "921  0.570423\n",
       "922  0.387324\n",
       "923  0.802817\n",
       "924  0.795775\n",
       "\n",
       "[925 rows x 1 columns]"
      ]
     },
     "execution_count": 260,
     "metadata": {},
     "output_type": "execute_result"
    }
   ],
   "source": [
    "dfNormalized"
   ]
  },
  {
   "cell_type": "markdown",
   "id": "4d53d461",
   "metadata": {},
   "source": [
    "#### 3) Lakukan standarisasi pada dataset menggunakan Standard Scaler. Di sini saya menggunakan atribut RestingBP dan MaxHR sebagai contoh demonstrasi untuk Standarisasi Data"
   ]
  },
  {
   "cell_type": "markdown",
   "id": "b5ee03ee",
   "metadata": {},
   "source": [
    "##### Salin dataframe asli ke dalam dataframe baru. Karena saya hanya menggunakan 2 atribut, maka atribut yang tersisa perlu dihapus menggunakan fungsi drop"
   ]
  },
  {
   "cell_type": "code",
   "execution_count": 261,
   "id": "dad74e6a",
   "metadata": {},
   "outputs": [],
   "source": [
    "dfCopyStandard = dFrame.copy()\n",
    "dfCopyStandard.drop(['Age', 'Sex', 'ChestPainType', 'Cholesterol', 'FastingBS', 'RestingECG', 'ExerciseAngina', 'Oldpeak', 'ST_Slope', 'HeartDisease'], axis=1, inplace=True)"
   ]
  },
  {
   "cell_type": "markdown",
   "id": "f085555c",
   "metadata": {},
   "source": [
    "##### Deklarasi fungsi standarisasi data menggunakan syntax dari Standard Scaler"
   ]
  },
  {
   "cell_type": "code",
   "execution_count": 262,
   "id": "7b97e4eb",
   "metadata": {},
   "outputs": [],
   "source": [
    "StandScal = StandardScaler()"
   ]
  },
  {
   "cell_type": "markdown",
   "id": "f2025dea",
   "metadata": {},
   "source": [
    "##### Lakukan proses standarisasi data menggunakan fungsi fit_transform"
   ]
  },
  {
   "cell_type": "code",
   "execution_count": 263,
   "id": "0f9dbe97",
   "metadata": {},
   "outputs": [],
   "source": [
    "dfStandard = StandScal.fit_transform(dfCopyStandard)"
   ]
  },
  {
   "cell_type": "markdown",
   "id": "3a38681d",
   "metadata": {},
   "source": [
    "##### Tampilkan perbandingan sebelum dan sesudah dilakukan standarisasi data serta nilai standar deviasi masing-masing"
   ]
  },
  {
   "cell_type": "code",
   "execution_count": 264,
   "id": "5db28791",
   "metadata": {},
   "outputs": [
    {
     "name": "stdout",
     "output_type": "stream",
     "text": [
      "Dataset sebelum standarisasi:\n",
      "     RestingBP  MaxHR\n",
      "0          140    172\n",
      "1          160    156\n",
      "2          130     98\n",
      "3          138    108\n",
      "4          150    122\n",
      "..         ...    ...\n",
      "920        110    132\n",
      "921        144    141\n",
      "922        130    115\n",
      "923        130    174\n",
      "924        138    173\n",
      "\n",
      "[925 rows x 2 columns]\n",
      "Nilai standar deviasi:\n",
      "RestingBP    18.484719\n",
      "MaxHR        25.468934\n",
      "dtype: float64\n",
      "\n",
      "Dataset setelah standarisasi:\n",
      "[[ 0.40962981  1.38211836]\n",
      " [ 1.49160461  0.75390203]\n",
      " [-0.13135759 -1.52338214]\n",
      " ...\n",
      " [-0.13135759 -0.85590229]\n",
      " [-0.13135759  1.4606454 ]\n",
      " [ 0.30143233  1.42138188]]\n",
      "Nilai standar deviasi: 1.0\n"
     ]
    }
   ],
   "source": [
    "print('Dataset sebelum standarisasi:',\n",
    "      dfCopyStandard,\n",
    "      f'Nilai standar deviasi:\\n{np.std(dfCopyStandard)}',\n",
    "      sep='\\n', end='\\n\\n')\n",
    "\n",
    "print('Dataset setelah standarisasi:',\n",
    "      dfStandard,\n",
    "      f'Nilai standar deviasi: {np.std(dfStandard)}',\n",
    "      sep='\\n')"
   ]
  },
  {
   "cell_type": "markdown",
   "id": "9a471a57",
   "metadata": {},
   "source": [
    "#### 4) Lakukan Data Cleaning pada data dengan nilai null"
   ]
  },
  {
   "cell_type": "markdown",
   "id": "e1dacb07",
   "metadata": {},
   "source": [
    "##### Buat variabel baru untuk menampung dataframe lama dengan menyalin dataframe lama agar tidak mengganggu isi dari dataframe lama"
   ]
  },
  {
   "cell_type": "code",
   "execution_count": 265,
   "id": "d80ce2f8",
   "metadata": {},
   "outputs": [],
   "source": [
    "dfCleaningNull = dFrame.copy()"
   ]
  },
  {
   "cell_type": "markdown",
   "id": "dd5e793f",
   "metadata": {},
   "source": [
    "##### Tampilkan informasi dari dataframe untuk mengetahui apakah terdapat nilai null atau tidak menggunakan fungsi isna().sum()"
   ]
  },
  {
   "cell_type": "code",
   "execution_count": 266,
   "id": "a278d6fd",
   "metadata": {},
   "outputs": [
    {
     "data": {
      "text/plain": [
       "Age               0\n",
       "Sex               0\n",
       "ChestPainType     2\n",
       "RestingBP         0\n",
       "Cholesterol       2\n",
       "FastingBS         0\n",
       "RestingECG        0\n",
       "MaxHR             0\n",
       "ExerciseAngina    0\n",
       "Oldpeak           2\n",
       "ST_Slope          1\n",
       "HeartDisease      0\n",
       "dtype: int64"
      ]
     },
     "execution_count": 266,
     "metadata": {},
     "output_type": "execute_result"
    }
   ],
   "source": [
    "dfCleaningNull.isna().sum()"
   ]
  },
  {
   "cell_type": "markdown",
   "id": "0f521674",
   "metadata": {},
   "source": [
    "##### Buat fungsi cleaning menggunakan syntax dari Simple Imputer. Sesuaikan parameter strategy sesuai dengan keinginan. Misal ingin mengubah nilai null menjadi nilai modus maka gunakan parameter most_frequent"
   ]
  },
  {
   "cell_type": "code",
   "execution_count": 267,
   "id": "da898812",
   "metadata": {},
   "outputs": [],
   "source": [
    "Mean = SimpleImputer(strategy = 'mean')\n",
    "Median = SimpleImputer(strategy = 'median')\n",
    "Modus = SimpleImputer(strategy = 'most_frequent')"
   ]
  },
  {
   "cell_type": "markdown",
   "id": "a5360da4",
   "metadata": {},
   "source": [
    "##### Lakukan proses data cleaning sesuai dengan tipe data dari tiap atribut. Untuk ketentuan strategy yang diterapkan adalah sebagai berikut:\n",
    "* Bilangan Bulat: Median/Modus\n",
    "* Bilangan Desimal: Mean\n",
    "* Tulisan: Modus"
   ]
  },
  {
   "cell_type": "code",
   "execution_count": 268,
   "id": "5c7053f2",
   "metadata": {},
   "outputs": [],
   "source": [
    "dfCleaningNull['ChestPainType'] = Modus.fit_transform(dfCleaningNull[['ChestPainType']])\n",
    "dfCleaningNull['Cholesterol'] = Median.fit_transform(dfCleaningNull[['Cholesterol']])\n",
    "dfCleaningNull['Oldpeak'] = Mean.fit_transform(dfCleaningNull[['Oldpeak']])\n",
    "dfCleaningNull['ST_Slope'] = Modus.fit_transform(dfCleaningNull[['ST_Slope']])"
   ]
  },
  {
   "cell_type": "markdown",
   "id": "177a21d9",
   "metadata": {},
   "source": [
    "##### Tampilkan hasil pembersihan data menggunakan isna().sum() untuk mengevaluasi apakah proses pembersihan berhasil atau gagal"
   ]
  },
  {
   "cell_type": "code",
   "execution_count": 269,
   "id": "d88b9f9d",
   "metadata": {},
   "outputs": [
    {
     "data": {
      "text/plain": [
       "Age               0\n",
       "Sex               0\n",
       "ChestPainType     0\n",
       "RestingBP         0\n",
       "Cholesterol       0\n",
       "FastingBS         0\n",
       "RestingECG        0\n",
       "MaxHR             0\n",
       "ExerciseAngina    0\n",
       "Oldpeak           0\n",
       "ST_Slope          0\n",
       "HeartDisease      0\n",
       "dtype: int64"
      ]
     },
     "execution_count": 269,
     "metadata": {},
     "output_type": "execute_result"
    }
   ],
   "source": [
    "dfCleaningNull.isna().sum()"
   ]
  },
  {
   "cell_type": "markdown",
   "id": "ecacc129",
   "metadata": {},
   "source": [
    "#### 5) Lakukan Data Cleaning pada data dengan nilai duplikat"
   ]
  },
  {
   "cell_type": "markdown",
   "id": "bb45e83d",
   "metadata": {},
   "source": [
    "##### Buat variabel baru untuk menampung dataframe lama dengan menyalin dataframe lama agar tidak mengganggu isi dari dataframe lama"
   ]
  },
  {
   "cell_type": "code",
   "execution_count": 270,
   "id": "cde8e560",
   "metadata": {},
   "outputs": [],
   "source": [
    "dfCleaningDuplicate = dFrame.copy()"
   ]
  },
  {
   "cell_type": "markdown",
   "id": "eed5482e",
   "metadata": {},
   "source": [
    "##### Tampilkan informasi dari dataframe untuk mengetahui apakah terdapat nilai duplikat atau tidak menggunakan fungsi duplicated().sum()"
   ]
  },
  {
   "cell_type": "code",
   "execution_count": 271,
   "id": "fc86833f",
   "metadata": {},
   "outputs": [
    {
     "name": "stdout",
     "output_type": "stream",
     "text": [
      "Jumlah data yang terduplikasi: 3 record\n"
     ]
    }
   ],
   "source": [
    "print('Jumlah data yang terduplikasi: %d record' % dfCleaningDuplicate.duplicated().sum())"
   ]
  },
  {
   "cell_type": "markdown",
   "id": "a928c132",
   "metadata": {},
   "source": [
    "##### Lakukan proses data cleaning dengan cara menghapus data yang terduplikasi dengan fungsi drop_duplicates()"
   ]
  },
  {
   "cell_type": "code",
   "execution_count": 272,
   "id": "7e5b6862",
   "metadata": {},
   "outputs": [],
   "source": [
    "dfCleaningDuplicate.drop_duplicates(inplace=True)"
   ]
  },
  {
   "cell_type": "markdown",
   "id": "5bfad9aa",
   "metadata": {},
   "source": [
    "##### Tampilkan informasi dari dataframe untuk mengetahui apakah terdapat nilai duplikat atau tidak setelah melakukan proses data cleaning"
   ]
  },
  {
   "cell_type": "code",
   "execution_count": 273,
   "id": "09b3be0f",
   "metadata": {},
   "outputs": [
    {
     "name": "stdout",
     "output_type": "stream",
     "text": [
      "Jumlah data yang terduplikasi: 0 record\n"
     ]
    }
   ],
   "source": [
    "print('Jumlah data yang terduplikasi: %d record' % dfCleaningDuplicate.duplicated().sum())"
   ]
  },
  {
   "cell_type": "markdown",
   "id": "ec1850af",
   "metadata": {},
   "source": [
    "#### 6) Ubah salah satu atribut pada dataframe yang memiliki tipe data berupa angka. Di sini saya akan menggunakan atribut MaxHR sebagai contoh demonstrasi perubahan tipe data suatu atribut"
   ]
  },
  {
   "cell_type": "markdown",
   "id": "11c4fcd2",
   "metadata": {},
   "source": [
    "##### Lakukan duplikasi dataframe agar tidak mengganggu dataframe yang asli. Karena saya menggunakan 1 atribut saja, maka atribut yang lain akan dihapus"
   ]
  },
  {
   "cell_type": "code",
   "execution_count": 274,
   "id": "fa687603",
   "metadata": {},
   "outputs": [],
   "source": [
    "dfChangeType = dFrame.copy()\n",
    "dfChangeType.drop(['Age', 'Sex', 'ChestPainType', 'RestingBP', 'Cholesterol', 'FastingBS', 'RestingECG', 'ExerciseAngina', 'Oldpeak', 'ST_Slope', 'HeartDisease'], axis=1, inplace=True)"
   ]
  },
  {
   "cell_type": "markdown",
   "id": "ed044a15",
   "metadata": {},
   "source": [
    "##### Tampilkan informasi dataframe sebelum dilakukan perubahan tipe data"
   ]
  },
  {
   "cell_type": "code",
   "execution_count": 275,
   "id": "a1211b46",
   "metadata": {},
   "outputs": [
    {
     "name": "stdout",
     "output_type": "stream",
     "text": [
      "<class 'pandas.core.frame.DataFrame'>\n",
      "RangeIndex: 925 entries, 0 to 924\n",
      "Data columns (total 1 columns):\n",
      " #   Column  Non-Null Count  Dtype\n",
      "---  ------  --------------  -----\n",
      " 0   MaxHR   925 non-null    int64\n",
      "dtypes: int64(1)\n",
      "memory usage: 7.4 KB\n"
     ]
    }
   ],
   "source": [
    "dfChangeType.info()"
   ]
  },
  {
   "cell_type": "markdown",
   "id": "b6f20d5b",
   "metadata": {},
   "source": [
    "##### Lakukan proses perubahan tipe data pada atribut yang dipilih menggunakan fungsi astype(). Karena saya ingin mengubah tipe data bilangan bulat menjadi bilangan desimal, maka parameter astype() akan diisi dengan 'float64'"
   ]
  },
  {
   "cell_type": "code",
   "execution_count": 276,
   "id": "93263c84",
   "metadata": {},
   "outputs": [],
   "source": [
    "dfChangeType = dfChangeType.astype(\"float64\")"
   ]
  },
  {
   "cell_type": "markdown",
   "id": "2b85ccdb",
   "metadata": {},
   "source": [
    "##### Tampilkan hasil perubahan tipe data menggunakan fungsi info()"
   ]
  },
  {
   "cell_type": "code",
   "execution_count": 277,
   "id": "6a822179",
   "metadata": {},
   "outputs": [
    {
     "name": "stdout",
     "output_type": "stream",
     "text": [
      "<class 'pandas.core.frame.DataFrame'>\n",
      "RangeIndex: 925 entries, 0 to 924\n",
      "Data columns (total 1 columns):\n",
      " #   Column  Non-Null Count  Dtype  \n",
      "---  ------  --------------  -----  \n",
      " 0   MaxHR   925 non-null    float64\n",
      "dtypes: float64(1)\n",
      "memory usage: 7.4 KB\n"
     ]
    }
   ],
   "source": [
    "dfChangeType.info()"
   ]
  },
  {
   "cell_type": "markdown",
   "id": "21f50eee",
   "metadata": {},
   "source": [
    "#### 7) Lakukan one hot encoding pada dataset yang dimiliki. Di sini saya akan memberikan contoh demonstrasi berupa penambahan atribut dengan membagi atribut yang menjadi label ke dalam 2 bentuk, yakni Normal Heart dan Heart Disease"
   ]
  },
  {
   "cell_type": "markdown",
   "id": "cae33b98",
   "metadata": {},
   "source": [
    "##### Duplikat dataframe asli menjadi dataframe baru untuk dilakukan proses one hot encoding"
   ]
  },
  {
   "cell_type": "code",
   "execution_count": 278,
   "id": "d4035802",
   "metadata": {},
   "outputs": [],
   "source": [
    "dfEncode = dFrame.copy()"
   ]
  },
  {
   "cell_type": "markdown",
   "id": "3f8beeda",
   "metadata": {},
   "source": [
    "##### Deklarasikan fungsi encoder menggunakan syntax dari one hot encoding"
   ]
  },
  {
   "cell_type": "code",
   "execution_count": 279,
   "id": "e34484ec",
   "metadata": {},
   "outputs": [],
   "source": [
    "encoder = OneHotEncoder(sparse=False)"
   ]
  },
  {
   "cell_type": "markdown",
   "id": "ec8be8f4",
   "metadata": {},
   "source": [
    "##### Buat variabel untuk menampung sementara dataset hasil encoding menggunakan fungsi fit_transform(). Di sini saya mengubah tipe data pada atribut label menjadi tipe data int64"
   ]
  },
  {
   "cell_type": "code",
   "execution_count": 280,
   "id": "403b9e89",
   "metadata": {},
   "outputs": [],
   "source": [
    "dsTemp = encoder.fit_transform(dfEncode[['HeartDisease']]).astype('int64')"
   ]
  },
  {
   "cell_type": "markdown",
   "id": "bed57867",
   "metadata": {},
   "source": [
    "##### Lakukan reformat pada dataset yang telah di-encode ke dalam bentuk dataframe"
   ]
  },
  {
   "cell_type": "code",
   "execution_count": 281,
   "id": "61374c71",
   "metadata": {},
   "outputs": [],
   "source": [
    "dsTemp = pd.DataFrame(dsTemp)"
   ]
  },
  {
   "cell_type": "markdown",
   "id": "78a4a7d2",
   "metadata": {},
   "source": [
    "##### Hapus atribut label pada dataframe sebelumnya"
   ]
  },
  {
   "cell_type": "code",
   "execution_count": 282,
   "id": "c752d673",
   "metadata": {},
   "outputs": [],
   "source": [
    "dfEncode.drop('HeartDisease', axis=1, inplace=True)"
   ]
  },
  {
   "cell_type": "markdown",
   "id": "5e01dd00",
   "metadata": {},
   "source": [
    "##### Gabungkan dataframe sebelumnya dengan dataframe hasil encoding"
   ]
  },
  {
   "cell_type": "code",
   "execution_count": 283,
   "id": "36517673",
   "metadata": {},
   "outputs": [],
   "source": [
    "dfEncode = dfEncode.join(dsTemp)"
   ]
  },
  {
   "cell_type": "markdown",
   "id": "0777ddd7",
   "metadata": {},
   "source": [
    "##### Tampilkan dataframe hasil gabungan antara dataframe sebelumnya dengan dataframe hasil encoding. Tak lupa untuk mengubah nama atribut label hasil encoding dengan fungsi rename"
   ]
  },
  {
   "cell_type": "code",
   "execution_count": 284,
   "id": "a79757cc",
   "metadata": {},
   "outputs": [
    {
     "data": {
      "text/html": [
       "<div>\n",
       "<style scoped>\n",
       "    .dataframe tbody tr th:only-of-type {\n",
       "        vertical-align: middle;\n",
       "    }\n",
       "\n",
       "    .dataframe tbody tr th {\n",
       "        vertical-align: top;\n",
       "    }\n",
       "\n",
       "    .dataframe thead th {\n",
       "        text-align: right;\n",
       "    }\n",
       "</style>\n",
       "<table border=\"1\" class=\"dataframe\">\n",
       "  <thead>\n",
       "    <tr style=\"text-align: right;\">\n",
       "      <th></th>\n",
       "      <th>Age</th>\n",
       "      <th>Sex</th>\n",
       "      <th>ChestPainType</th>\n",
       "      <th>RestingBP</th>\n",
       "      <th>Cholesterol</th>\n",
       "      <th>FastingBS</th>\n",
       "      <th>RestingECG</th>\n",
       "      <th>MaxHR</th>\n",
       "      <th>ExerciseAngina</th>\n",
       "      <th>Oldpeak</th>\n",
       "      <th>ST_Slope</th>\n",
       "      <th>Normal_Heart</th>\n",
       "      <th>Heart_Disease</th>\n",
       "    </tr>\n",
       "  </thead>\n",
       "  <tbody>\n",
       "    <tr>\n",
       "      <th>0</th>\n",
       "      <td>40</td>\n",
       "      <td>M</td>\n",
       "      <td>ATA</td>\n",
       "      <td>140</td>\n",
       "      <td>289.0</td>\n",
       "      <td>0</td>\n",
       "      <td>Normal</td>\n",
       "      <td>172</td>\n",
       "      <td>N</td>\n",
       "      <td>0.0</td>\n",
       "      <td>Up</td>\n",
       "      <td>1</td>\n",
       "      <td>0</td>\n",
       "    </tr>\n",
       "    <tr>\n",
       "      <th>1</th>\n",
       "      <td>49</td>\n",
       "      <td>F</td>\n",
       "      <td>NAP</td>\n",
       "      <td>160</td>\n",
       "      <td>180.0</td>\n",
       "      <td>0</td>\n",
       "      <td>Normal</td>\n",
       "      <td>156</td>\n",
       "      <td>N</td>\n",
       "      <td>1.0</td>\n",
       "      <td>Flat</td>\n",
       "      <td>0</td>\n",
       "      <td>1</td>\n",
       "    </tr>\n",
       "    <tr>\n",
       "      <th>2</th>\n",
       "      <td>37</td>\n",
       "      <td>M</td>\n",
       "      <td>ATA</td>\n",
       "      <td>130</td>\n",
       "      <td>283.0</td>\n",
       "      <td>0</td>\n",
       "      <td>ST</td>\n",
       "      <td>98</td>\n",
       "      <td>N</td>\n",
       "      <td>0.0</td>\n",
       "      <td>Up</td>\n",
       "      <td>1</td>\n",
       "      <td>0</td>\n",
       "    </tr>\n",
       "    <tr>\n",
       "      <th>3</th>\n",
       "      <td>48</td>\n",
       "      <td>F</td>\n",
       "      <td>ASY</td>\n",
       "      <td>138</td>\n",
       "      <td>214.0</td>\n",
       "      <td>0</td>\n",
       "      <td>Normal</td>\n",
       "      <td>108</td>\n",
       "      <td>Y</td>\n",
       "      <td>1.5</td>\n",
       "      <td>Flat</td>\n",
       "      <td>0</td>\n",
       "      <td>1</td>\n",
       "    </tr>\n",
       "    <tr>\n",
       "      <th>4</th>\n",
       "      <td>54</td>\n",
       "      <td>M</td>\n",
       "      <td>NAP</td>\n",
       "      <td>150</td>\n",
       "      <td>195.0</td>\n",
       "      <td>0</td>\n",
       "      <td>Normal</td>\n",
       "      <td>122</td>\n",
       "      <td>N</td>\n",
       "      <td>0.0</td>\n",
       "      <td>Up</td>\n",
       "      <td>1</td>\n",
       "      <td>0</td>\n",
       "    </tr>\n",
       "    <tr>\n",
       "      <th>...</th>\n",
       "      <td>...</td>\n",
       "      <td>...</td>\n",
       "      <td>...</td>\n",
       "      <td>...</td>\n",
       "      <td>...</td>\n",
       "      <td>...</td>\n",
       "      <td>...</td>\n",
       "      <td>...</td>\n",
       "      <td>...</td>\n",
       "      <td>...</td>\n",
       "      <td>...</td>\n",
       "      <td>...</td>\n",
       "      <td>...</td>\n",
       "    </tr>\n",
       "    <tr>\n",
       "      <th>920</th>\n",
       "      <td>45</td>\n",
       "      <td>M</td>\n",
       "      <td>TA</td>\n",
       "      <td>110</td>\n",
       "      <td>NaN</td>\n",
       "      <td>0</td>\n",
       "      <td>Normal</td>\n",
       "      <td>132</td>\n",
       "      <td>N</td>\n",
       "      <td>1.2</td>\n",
       "      <td>Flat</td>\n",
       "      <td>0</td>\n",
       "      <td>1</td>\n",
       "    </tr>\n",
       "    <tr>\n",
       "      <th>921</th>\n",
       "      <td>68</td>\n",
       "      <td>M</td>\n",
       "      <td>ASY</td>\n",
       "      <td>144</td>\n",
       "      <td>193.0</td>\n",
       "      <td>1</td>\n",
       "      <td>Normal</td>\n",
       "      <td>141</td>\n",
       "      <td>N</td>\n",
       "      <td>NaN</td>\n",
       "      <td>Flat</td>\n",
       "      <td>0</td>\n",
       "      <td>1</td>\n",
       "    </tr>\n",
       "    <tr>\n",
       "      <th>922</th>\n",
       "      <td>57</td>\n",
       "      <td>M</td>\n",
       "      <td>NaN</td>\n",
       "      <td>130</td>\n",
       "      <td>NaN</td>\n",
       "      <td>0</td>\n",
       "      <td>Normal</td>\n",
       "      <td>115</td>\n",
       "      <td>Y</td>\n",
       "      <td>NaN</td>\n",
       "      <td>NaN</td>\n",
       "      <td>0</td>\n",
       "      <td>1</td>\n",
       "    </tr>\n",
       "    <tr>\n",
       "      <th>923</th>\n",
       "      <td>57</td>\n",
       "      <td>F</td>\n",
       "      <td>ATA</td>\n",
       "      <td>130</td>\n",
       "      <td>236.0</td>\n",
       "      <td>0</td>\n",
       "      <td>LVH</td>\n",
       "      <td>174</td>\n",
       "      <td>N</td>\n",
       "      <td>0.0</td>\n",
       "      <td>Flat</td>\n",
       "      <td>0</td>\n",
       "      <td>1</td>\n",
       "    </tr>\n",
       "    <tr>\n",
       "      <th>924</th>\n",
       "      <td>38</td>\n",
       "      <td>M</td>\n",
       "      <td>NAP</td>\n",
       "      <td>138</td>\n",
       "      <td>175.0</td>\n",
       "      <td>0</td>\n",
       "      <td>Normal</td>\n",
       "      <td>173</td>\n",
       "      <td>N</td>\n",
       "      <td>0.0</td>\n",
       "      <td>Up</td>\n",
       "      <td>1</td>\n",
       "      <td>0</td>\n",
       "    </tr>\n",
       "  </tbody>\n",
       "</table>\n",
       "<p>925 rows × 13 columns</p>\n",
       "</div>"
      ],
      "text/plain": [
       "     Age Sex ChestPainType  RestingBP  Cholesterol  FastingBS RestingECG  \\\n",
       "0     40   M           ATA        140        289.0          0     Normal   \n",
       "1     49   F           NAP        160        180.0          0     Normal   \n",
       "2     37   M           ATA        130        283.0          0         ST   \n",
       "3     48   F           ASY        138        214.0          0     Normal   \n",
       "4     54   M           NAP        150        195.0          0     Normal   \n",
       "..   ...  ..           ...        ...          ...        ...        ...   \n",
       "920   45   M            TA        110          NaN          0     Normal   \n",
       "921   68   M           ASY        144        193.0          1     Normal   \n",
       "922   57   M           NaN        130          NaN          0     Normal   \n",
       "923   57   F           ATA        130        236.0          0        LVH   \n",
       "924   38   M           NAP        138        175.0          0     Normal   \n",
       "\n",
       "     MaxHR ExerciseAngina  Oldpeak ST_Slope  Normal_Heart  Heart_Disease  \n",
       "0      172              N      0.0       Up             1              0  \n",
       "1      156              N      1.0     Flat             0              1  \n",
       "2       98              N      0.0       Up             1              0  \n",
       "3      108              Y      1.5     Flat             0              1  \n",
       "4      122              N      0.0       Up             1              0  \n",
       "..     ...            ...      ...      ...           ...            ...  \n",
       "920    132              N      1.2     Flat             0              1  \n",
       "921    141              N      NaN     Flat             0              1  \n",
       "922    115              Y      NaN      NaN             0              1  \n",
       "923    174              N      0.0     Flat             0              1  \n",
       "924    173              N      0.0       Up             1              0  \n",
       "\n",
       "[925 rows x 13 columns]"
      ]
     },
     "execution_count": 284,
     "metadata": {},
     "output_type": "execute_result"
    }
   ],
   "source": [
    "dfEncode.rename(columns={0:'Normal_Heart', 1:'Heart_Disease'})"
   ]
  },
  {
   "cell_type": "code",
   "execution_count": null,
   "id": "c2576759",
   "metadata": {},
   "outputs": [],
   "source": []
  }
 ],
 "metadata": {
  "kernelspec": {
   "display_name": "Python 3 (ipykernel)",
   "language": "python",
   "name": "python3"
  },
  "language_info": {
   "codemirror_mode": {
    "name": "ipython",
    "version": 3
   },
   "file_extension": ".py",
   "mimetype": "text/x-python",
   "name": "python",
   "nbconvert_exporter": "python",
   "pygments_lexer": "ipython3",
   "version": "3.10.7"
  }
 },
 "nbformat": 4,
 "nbformat_minor": 5
}
