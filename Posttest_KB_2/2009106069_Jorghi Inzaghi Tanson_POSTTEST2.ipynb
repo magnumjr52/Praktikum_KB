{
 "cells": [
  {
   "cell_type": "markdown",
   "id": "8ef88547",
   "metadata": {},
   "source": [
    "# POSTTEST 2 - Modul Dataset dan EDA"
   ]
  },
  {
   "cell_type": "markdown",
   "id": "4c11c941",
   "metadata": {},
   "source": [
    "#### Import library yang diperlukan"
   ]
  },
  {
   "cell_type": "code",
   "execution_count": 104,
   "id": "602cb299",
   "metadata": {},
   "outputs": [],
   "source": [
    "import pandas as pd"
   ]
  },
  {
   "cell_type": "markdown",
   "id": "b643859a",
   "metadata": {},
   "source": [
    "#### Baca dataset yang telah diunduh dan tampilkan isi dataset"
   ]
  },
  {
   "cell_type": "code",
   "execution_count": 105,
   "id": "9552c21f",
   "metadata": {},
   "outputs": [
    {
     "data": {
      "text/html": [
       "<div>\n",
       "<style scoped>\n",
       "    .dataframe tbody tr th:only-of-type {\n",
       "        vertical-align: middle;\n",
       "    }\n",
       "\n",
       "    .dataframe tbody tr th {\n",
       "        vertical-align: top;\n",
       "    }\n",
       "\n",
       "    .dataframe thead th {\n",
       "        text-align: right;\n",
       "    }\n",
       "</style>\n",
       "<table border=\"1\" class=\"dataframe\">\n",
       "  <thead>\n",
       "    <tr style=\"text-align: right;\">\n",
       "      <th></th>\n",
       "      <th>id</th>\n",
       "      <th>title</th>\n",
       "      <th>year</th>\n",
       "      <th>genre</th>\n",
       "      <th>rating</th>\n",
       "      <th>votes</th>\n",
       "      <th>directors</th>\n",
       "      <th>plot</th>\n",
       "    </tr>\n",
       "  </thead>\n",
       "  <tbody>\n",
       "    <tr>\n",
       "      <th>0</th>\n",
       "      <td>0</td>\n",
       "      <td>The Last of Us: Part I</td>\n",
       "      <td>2022</td>\n",
       "      <td>Action, Adventure, Drama</td>\n",
       "      <td>9.8</td>\n",
       "      <td>601</td>\n",
       "      <td>Matthew Gallant, Bruce Straley</td>\n",
       "      <td>Experience the emotional storytelling and unfo...</td>\n",
       "    </tr>\n",
       "    <tr>\n",
       "      <th>1</th>\n",
       "      <td>1</td>\n",
       "      <td>Red Dead Redemption II</td>\n",
       "      <td>2018</td>\n",
       "      <td>Action, Adventure, Crime</td>\n",
       "      <td>9.7</td>\n",
       "      <td>36441</td>\n",
       "      <td>Missing</td>\n",
       "      <td>Amidst the decline of the Wild West at the tur...</td>\n",
       "    </tr>\n",
       "    <tr>\n",
       "      <th>2</th>\n",
       "      <td>2</td>\n",
       "      <td>The Witcher 3: Wild Hunt - Blood and Wine</td>\n",
       "      <td>2016</td>\n",
       "      <td>Action, Adventure, Drama</td>\n",
       "      <td>9.7</td>\n",
       "      <td>7610</td>\n",
       "      <td>Konrad Tomaszkiewicz</td>\n",
       "      <td>Geralt is in the southern province of Toussain...</td>\n",
       "    </tr>\n",
       "    <tr>\n",
       "      <th>3</th>\n",
       "      <td>3</td>\n",
       "      <td>The Witcher 3: Wild Hunt</td>\n",
       "      <td>2015</td>\n",
       "      <td>Action, Adventure, Drama</td>\n",
       "      <td>9.7</td>\n",
       "      <td>26328</td>\n",
       "      <td>Konrad Tomaszkiewicz</td>\n",
       "      <td>A monster hunter for hire embarks on an epic j...</td>\n",
       "    </tr>\n",
       "    <tr>\n",
       "      <th>4</th>\n",
       "      <td>4</td>\n",
       "      <td>The Last of Us</td>\n",
       "      <td>2013</td>\n",
       "      <td>Action, Adventure, Drama</td>\n",
       "      <td>9.7</td>\n",
       "      <td>61103</td>\n",
       "      <td>Neil Druckmann, Bruce Straley</td>\n",
       "      <td>In a hostile, post-pandemic world, Joel and El...</td>\n",
       "    </tr>\n",
       "    <tr>\n",
       "      <th>...</th>\n",
       "      <td>...</td>\n",
       "      <td>...</td>\n",
       "      <td>...</td>\n",
       "      <td>...</td>\n",
       "      <td>...</td>\n",
       "      <td>...</td>\n",
       "      <td>...</td>\n",
       "      <td>...</td>\n",
       "    </tr>\n",
       "    <tr>\n",
       "      <th>12630</th>\n",
       "      <td>12633</td>\n",
       "      <td>Superman</td>\n",
       "      <td>1999</td>\n",
       "      <td>Action, Adventure, Family</td>\n",
       "      <td>1.4</td>\n",
       "      <td>646</td>\n",
       "      <td>Missing</td>\n",
       "      <td>The first 3D Superman game. Your friends Lois ...</td>\n",
       "    </tr>\n",
       "    <tr>\n",
       "      <th>12631</th>\n",
       "      <td>12634</td>\n",
       "      <td>Action 52</td>\n",
       "      <td>1991</td>\n",
       "      <td>Action, Family, Fantasy</td>\n",
       "      <td>1.3</td>\n",
       "      <td>135</td>\n",
       "      <td>Raul Gomila, Vince Perri</td>\n",
       "      <td>Play the action at your fingertips with 52 gam...</td>\n",
       "    </tr>\n",
       "    <tr>\n",
       "      <th>12632</th>\n",
       "      <td>12635</td>\n",
       "      <td>Plumbers Don't Wear Ties</td>\n",
       "      <td>1994</td>\n",
       "      <td>Comedy, Romance</td>\n",
       "      <td>1.3</td>\n",
       "      <td>338</td>\n",
       "      <td>Michael Anderson</td>\n",
       "      <td>John, an unattached plumber, meets and falls i...</td>\n",
       "    </tr>\n",
       "    <tr>\n",
       "      <th>12633</th>\n",
       "      <td>12636</td>\n",
       "      <td>Animal Soccer World</td>\n",
       "      <td>2005</td>\n",
       "      <td>Animation, Sport</td>\n",
       "      <td>1.2</td>\n",
       "      <td>125</td>\n",
       "      <td>Roswitha Haas</td>\n",
       "      <td>Everybody is busy with the preparations for th...</td>\n",
       "    </tr>\n",
       "    <tr>\n",
       "      <th>12634</th>\n",
       "      <td>12637</td>\n",
       "      <td>CrazyBus</td>\n",
       "      <td>2004</td>\n",
       "      <td>Adventure, Family</td>\n",
       "      <td>1.0</td>\n",
       "      <td>126</td>\n",
       "      <td>Tom Maneiro</td>\n",
       "      <td>You get to select your bus and drive it across...</td>\n",
       "    </tr>\n",
       "  </tbody>\n",
       "</table>\n",
       "<p>12635 rows × 8 columns</p>\n",
       "</div>"
      ],
      "text/plain": [
       "          id                                      title  year  \\\n",
       "0          0                     The Last of Us: Part I  2022   \n",
       "1          1                     Red Dead Redemption II  2018   \n",
       "2          2  The Witcher 3: Wild Hunt - Blood and Wine  2016   \n",
       "3          3                   The Witcher 3: Wild Hunt  2015   \n",
       "4          4                             The Last of Us  2013   \n",
       "...      ...                                        ...   ...   \n",
       "12630  12633                                   Superman  1999   \n",
       "12631  12634                                  Action 52  1991   \n",
       "12632  12635                   Plumbers Don't Wear Ties  1994   \n",
       "12633  12636                        Animal Soccer World  2005   \n",
       "12634  12637                                   CrazyBus  2004   \n",
       "\n",
       "                           genre  rating  votes  \\\n",
       "0       Action, Adventure, Drama     9.8    601   \n",
       "1       Action, Adventure, Crime     9.7  36441   \n",
       "2       Action, Adventure, Drama     9.7   7610   \n",
       "3       Action, Adventure, Drama     9.7  26328   \n",
       "4       Action, Adventure, Drama     9.7  61103   \n",
       "...                          ...     ...    ...   \n",
       "12630  Action, Adventure, Family     1.4    646   \n",
       "12631    Action, Family, Fantasy     1.3    135   \n",
       "12632            Comedy, Romance     1.3    338   \n",
       "12633           Animation, Sport     1.2    125   \n",
       "12634          Adventure, Family     1.0    126   \n",
       "\n",
       "                            directors  \\\n",
       "0      Matthew Gallant, Bruce Straley   \n",
       "1                             Missing   \n",
       "2                Konrad Tomaszkiewicz   \n",
       "3                Konrad Tomaszkiewicz   \n",
       "4       Neil Druckmann, Bruce Straley   \n",
       "...                               ...   \n",
       "12630                         Missing   \n",
       "12631        Raul Gomila, Vince Perri   \n",
       "12632                Michael Anderson   \n",
       "12633                   Roswitha Haas   \n",
       "12634                     Tom Maneiro   \n",
       "\n",
       "                                                    plot  \n",
       "0      Experience the emotional storytelling and unfo...  \n",
       "1      Amidst the decline of the Wild West at the tur...  \n",
       "2      Geralt is in the southern province of Toussain...  \n",
       "3      A monster hunter for hire embarks on an epic j...  \n",
       "4      In a hostile, post-pandemic world, Joel and El...  \n",
       "...                                                  ...  \n",
       "12630  The first 3D Superman game. Your friends Lois ...  \n",
       "12631  Play the action at your fingertips with 52 gam...  \n",
       "12632  John, an unattached plumber, meets and falls i...  \n",
       "12633  Everybody is busy with the preparations for th...  \n",
       "12634  You get to select your bus and drive it across...  \n",
       "\n",
       "[12635 rows x 8 columns]"
      ]
     },
     "execution_count": 105,
     "metadata": {},
     "output_type": "execute_result"
    }
   ],
   "source": [
    "dataFrame = pd.read_csv('imdb_video_game_rating.csv')\n",
    "dataFrame"
   ]
  },
  {
   "cell_type": "markdown",
   "id": "87722057",
   "metadata": {},
   "source": [
    "#### Tampilkan informasi seputar properties dari dataset"
   ]
  },
  {
   "cell_type": "code",
   "execution_count": 106,
   "id": "f8d20761",
   "metadata": {},
   "outputs": [
    {
     "name": "stdout",
     "output_type": "stream",
     "text": [
      "<class 'pandas.core.frame.DataFrame'>\n",
      "RangeIndex: 12635 entries, 0 to 12634\n",
      "Data columns (total 8 columns):\n",
      " #   Column     Non-Null Count  Dtype  \n",
      "---  ------     --------------  -----  \n",
      " 0   id         12635 non-null  int64  \n",
      " 1   title      12635 non-null  object \n",
      " 2   year       12635 non-null  int64  \n",
      " 3   genre      12635 non-null  object \n",
      " 4   rating     12635 non-null  float64\n",
      " 5   votes      12635 non-null  int64  \n",
      " 6   directors  12635 non-null  object \n",
      " 7   plot       12635 non-null  object \n",
      "dtypes: float64(1), int64(3), object(4)\n",
      "memory usage: 789.8+ KB\n"
     ]
    }
   ],
   "source": [
    "dataFrame.info()"
   ]
  },
  {
   "cell_type": "markdown",
   "id": "55c84503",
   "metadata": {},
   "source": [
    "#### Buat variabel untuk menampung nilai:\n",
    "* Jumlah record\n",
    "* Nama atribut\n",
    "* Jumlah atribut dengan tipe data objek\n",
    "* Jumlah atribut dengan tipe data angka\n",
    "* Jumlah atribut dengan nilai null"
   ]
  },
  {
   "cell_type": "code",
   "execution_count": 107,
   "id": "bfc0ec4e",
   "metadata": {},
   "outputs": [],
   "source": [
    "jumlahRecord = len(dataFrame)                                                    # Variabel Penampung Nilai Jumlah Record\n",
    "namaAtribut = dataFrame.columns.to_list()                                        # Variabel Penampung Nilai Nama Atribut\n",
    "atributObjek = len(dataFrame.select_dtypes(include=['object']).columns)          # Variabel Penampung Nilai Atribut Bertipe data objek\n",
    "atributAngka = len(dataFrame.select_dtypes(include=['int64','float64']).columns) # Variabel Penampung Nilai Atribut Bertipe data angka\n",
    "atributNilaiNull = len(dataFrame.columns[dataFrame.isna().sum() > 0])            # Variabel Penampung Nilai Atribut Null"
   ]
  },
  {
   "cell_type": "markdown",
   "id": "3caf7718",
   "metadata": {},
   "source": [
    "#### Masukkan nilai variabel di atas ke dalam dictionary dan tampilkan isi dari dictionary tersebut"
   ]
  },
  {
   "cell_type": "code",
   "execution_count": 108,
   "id": "f3beddf8",
   "metadata": {},
   "outputs": [
    {
     "name": "stdout",
     "output_type": "stream",
     "text": [
      "Berikut adalah isi dari dictionary tersebut.\n",
      "1. Jumlah Record: 12635\n",
      "2. Nama Atribut:\n",
      "   1. id\n",
      "   2. title\n",
      "   3. year\n",
      "   4. genre\n",
      "   5. rating\n",
      "   6. votes\n",
      "   7. directors\n",
      "   8. plot\n",
      "3. Jumlah Atribut Objek: 4\n",
      "4. Jumlah Atribut Angka: 4\n",
      "5. Jumlah Atribut Nilai Null: 0\n"
     ]
    }
   ],
   "source": [
    "dictionaryDataframe = {\n",
    "    \"Jumlah Record\": jumlahRecord,\n",
    "    \"Nama Atribut\": namaAtribut,\n",
    "    \"Jumlah Atribut Objek\": atributObjek,\n",
    "    \"Jumlah Atribut Angka\": atributAngka,\n",
    "    \"Jumlah Atribut Nilai Null\": atributNilaiNull,\n",
    "}\n",
    "print(\"Berikut adalah isi dari dictionary tersebut.\")\n",
    "for i in range(len(dictionaryDataframe)):\n",
    "    for key, value in dictionaryDataframe.items():\n",
    "        i+=1\n",
    "        if key == \"Nama Atribut\":\n",
    "            print(\"%i. %s:\" % (i, key))\n",
    "            for j in range(len(dictionaryDataframe['Nama Atribut'])):\n",
    "                for k in dictionaryDataframe['Nama Atribut']:\n",
    "                    j+=1\n",
    "                    print(\"   %i. %s\" % (j, k))\n",
    "                break\n",
    "        else:\n",
    "            print(\"%i. %s:\" % (i, key), value)\n",
    "    break"
   ]
  },
  {
   "cell_type": "markdown",
   "id": "10d0cbbd",
   "metadata": {},
   "source": [
    "#### Tampilkan nilai di bawah ini dengan syarat atribut hanya bertipe data angka: \n",
    "* Mean\n",
    "* Standar deviasi\n",
    "* Minimum\n",
    "* Maksimum\n",
    "* Quartil 1 (25%)\n",
    "* Quartil 2 (50%)\n",
    "* Quartil 3 (75%)"
   ]
  },
  {
   "cell_type": "code",
   "execution_count": 109,
   "id": "1a90edc1",
   "metadata": {},
   "outputs": [
    {
     "data": {
      "text/html": [
       "<div>\n",
       "<style scoped>\n",
       "    .dataframe tbody tr th:only-of-type {\n",
       "        vertical-align: middle;\n",
       "    }\n",
       "\n",
       "    .dataframe tbody tr th {\n",
       "        vertical-align: top;\n",
       "    }\n",
       "\n",
       "    .dataframe thead th {\n",
       "        text-align: right;\n",
       "    }\n",
       "</style>\n",
       "<table border=\"1\" class=\"dataframe\">\n",
       "  <thead>\n",
       "    <tr style=\"text-align: right;\">\n",
       "      <th></th>\n",
       "      <th>id</th>\n",
       "      <th>year</th>\n",
       "      <th>rating</th>\n",
       "      <th>votes</th>\n",
       "    </tr>\n",
       "  </thead>\n",
       "  <tbody>\n",
       "    <tr>\n",
       "      <th>mean</th>\n",
       "      <td>6317.319747</td>\n",
       "      <td>2004.555837</td>\n",
       "      <td>6.945105</td>\n",
       "      <td>383.722438</td>\n",
       "    </tr>\n",
       "    <tr>\n",
       "      <th>std</th>\n",
       "      <td>3648.018413</td>\n",
       "      <td>10.849698</td>\n",
       "      <td>1.254719</td>\n",
       "      <td>1802.919253</td>\n",
       "    </tr>\n",
       "    <tr>\n",
       "      <th>min</th>\n",
       "      <td>0.000000</td>\n",
       "      <td>1948.000000</td>\n",
       "      <td>1.000000</td>\n",
       "      <td>5.000000</td>\n",
       "    </tr>\n",
       "    <tr>\n",
       "      <th>max</th>\n",
       "      <td>12637.000000</td>\n",
       "      <td>2022.000000</td>\n",
       "      <td>9.800000</td>\n",
       "      <td>61103.000000</td>\n",
       "    </tr>\n",
       "    <tr>\n",
       "      <th>25%</th>\n",
       "      <td>3158.500000</td>\n",
       "      <td>1997.000000</td>\n",
       "      <td>6.300000</td>\n",
       "      <td>15.000000</td>\n",
       "    </tr>\n",
       "    <tr>\n",
       "      <th>50%</th>\n",
       "      <td>6317.000000</td>\n",
       "      <td>2005.000000</td>\n",
       "      <td>7.200000</td>\n",
       "      <td>38.000000</td>\n",
       "    </tr>\n",
       "    <tr>\n",
       "      <th>75%</th>\n",
       "      <td>9475.500000</td>\n",
       "      <td>2014.000000</td>\n",
       "      <td>7.800000</td>\n",
       "      <td>137.000000</td>\n",
       "    </tr>\n",
       "  </tbody>\n",
       "</table>\n",
       "</div>"
      ],
      "text/plain": [
       "                id         year    rating         votes\n",
       "mean   6317.319747  2004.555837  6.945105    383.722438\n",
       "std    3648.018413    10.849698  1.254719   1802.919253\n",
       "min       0.000000  1948.000000  1.000000      5.000000\n",
       "max   12637.000000  2022.000000  9.800000  61103.000000\n",
       "25%    3158.500000  1997.000000  6.300000     15.000000\n",
       "50%    6317.000000  2005.000000  7.200000     38.000000\n",
       "75%    9475.500000  2014.000000  7.800000    137.000000"
      ]
     },
     "execution_count": 109,
     "metadata": {},
     "output_type": "execute_result"
    }
   ],
   "source": [
    "dataFrame.describe().loc[[\"mean\", \"std\", \"min\", \"max\", \"25%\", \"50%\", \"75%\"]]"
   ]
  },
  {
   "cell_type": "markdown",
   "id": "2ef4b633",
   "metadata": {},
   "source": [
    "#### Tampilkan nilai korelasi dengan syarat atribut hanya bertipe data angka"
   ]
  },
  {
   "cell_type": "code",
   "execution_count": 110,
   "id": "de20a12b",
   "metadata": {},
   "outputs": [
    {
     "data": {
      "text/html": [
       "<div>\n",
       "<style scoped>\n",
       "    .dataframe tbody tr th:only-of-type {\n",
       "        vertical-align: middle;\n",
       "    }\n",
       "\n",
       "    .dataframe tbody tr th {\n",
       "        vertical-align: top;\n",
       "    }\n",
       "\n",
       "    .dataframe thead th {\n",
       "        text-align: right;\n",
       "    }\n",
       "</style>\n",
       "<table border=\"1\" class=\"dataframe\">\n",
       "  <thead>\n",
       "    <tr style=\"text-align: right;\">\n",
       "      <th></th>\n",
       "      <th>id</th>\n",
       "      <th>year</th>\n",
       "      <th>rating</th>\n",
       "      <th>votes</th>\n",
       "    </tr>\n",
       "  </thead>\n",
       "  <tbody>\n",
       "    <tr>\n",
       "      <th>id</th>\n",
       "      <td>1.000000</td>\n",
       "      <td>-0.162981</td>\n",
       "      <td>-0.932981</td>\n",
       "      <td>-0.221570</td>\n",
       "    </tr>\n",
       "    <tr>\n",
       "      <th>year</th>\n",
       "      <td>-0.162981</td>\n",
       "      <td>1.000000</td>\n",
       "      <td>0.152910</td>\n",
       "      <td>0.072981</td>\n",
       "    </tr>\n",
       "    <tr>\n",
       "      <th>rating</th>\n",
       "      <td>-0.932981</td>\n",
       "      <td>0.152910</td>\n",
       "      <td>1.000000</td>\n",
       "      <td>0.211990</td>\n",
       "    </tr>\n",
       "    <tr>\n",
       "      <th>votes</th>\n",
       "      <td>-0.221570</td>\n",
       "      <td>0.072981</td>\n",
       "      <td>0.211990</td>\n",
       "      <td>1.000000</td>\n",
       "    </tr>\n",
       "  </tbody>\n",
       "</table>\n",
       "</div>"
      ],
      "text/plain": [
       "              id      year    rating     votes\n",
       "id      1.000000 -0.162981 -0.932981 -0.221570\n",
       "year   -0.162981  1.000000  0.152910  0.072981\n",
       "rating -0.932981  0.152910  1.000000  0.211990\n",
       "votes  -0.221570  0.072981  0.211990  1.000000"
      ]
     },
     "execution_count": 110,
     "metadata": {},
     "output_type": "execute_result"
    }
   ],
   "source": [
    "dataFrame.corr(numeric_only=True)"
   ]
  },
  {
   "cell_type": "markdown",
   "id": "405dba72",
   "metadata": {},
   "source": [
    "#### Ubah salah satu atribut bertipe data angka menjadi desimal dengan 3 angka di belakang koma"
   ]
  },
  {
   "cell_type": "code",
   "execution_count": 111,
   "id": "7e4f7d9d",
   "metadata": {},
   "outputs": [
    {
     "data": {
      "text/plain": [
       "0         0.601\n",
       "1        36.441\n",
       "2         7.610\n",
       "3        26.328\n",
       "4        61.103\n",
       "          ...  \n",
       "12630     0.646\n",
       "12631     0.135\n",
       "12632     0.338\n",
       "12633     0.125\n",
       "12634     0.126\n",
       "Name: votes, Length: 12635, dtype: float64"
      ]
     },
     "execution_count": 111,
     "metadata": {},
     "output_type": "execute_result"
    }
   ],
   "source": [
    "dataFrame[\"votes\"] * 0.001"
   ]
  },
  {
   "cell_type": "markdown",
   "id": "771181b8",
   "metadata": {},
   "source": [
    "#### Ubah salah satu atribut bertipe data desimal menjadi angka"
   ]
  },
  {
   "cell_type": "code",
   "execution_count": 112,
   "id": "f594cbdd",
   "metadata": {},
   "outputs": [
    {
     "data": {
      "text/plain": [
       "0        10\n",
       "1        10\n",
       "2        10\n",
       "3        10\n",
       "4        10\n",
       "         ..\n",
       "12630     1\n",
       "12631     1\n",
       "12632     1\n",
       "12633     1\n",
       "12634     1\n",
       "Name: rating, Length: 12635, dtype: int64"
      ]
     },
     "execution_count": 112,
     "metadata": {},
     "output_type": "execute_result"
    }
   ],
   "source": [
    "dataFrame[\"rating\"].round().astype('int64')"
   ]
  },
  {
   "cell_type": "markdown",
   "id": "6f2f5741",
   "metadata": {},
   "source": [
    "#### Tampilkan 10 record pertama dari dataset dengan syarat atribut hanya bertipe data angka"
   ]
  },
  {
   "cell_type": "code",
   "execution_count": 113,
   "id": "b49e934f",
   "metadata": {},
   "outputs": [
    {
     "data": {
      "text/html": [
       "<div>\n",
       "<style scoped>\n",
       "    .dataframe tbody tr th:only-of-type {\n",
       "        vertical-align: middle;\n",
       "    }\n",
       "\n",
       "    .dataframe tbody tr th {\n",
       "        vertical-align: top;\n",
       "    }\n",
       "\n",
       "    .dataframe thead th {\n",
       "        text-align: right;\n",
       "    }\n",
       "</style>\n",
       "<table border=\"1\" class=\"dataframe\">\n",
       "  <thead>\n",
       "    <tr style=\"text-align: right;\">\n",
       "      <th></th>\n",
       "      <th>id</th>\n",
       "      <th>year</th>\n",
       "      <th>rating</th>\n",
       "      <th>votes</th>\n",
       "    </tr>\n",
       "  </thead>\n",
       "  <tbody>\n",
       "    <tr>\n",
       "      <th>0</th>\n",
       "      <td>0</td>\n",
       "      <td>2022</td>\n",
       "      <td>9.8</td>\n",
       "      <td>601</td>\n",
       "    </tr>\n",
       "    <tr>\n",
       "      <th>1</th>\n",
       "      <td>1</td>\n",
       "      <td>2018</td>\n",
       "      <td>9.7</td>\n",
       "      <td>36441</td>\n",
       "    </tr>\n",
       "    <tr>\n",
       "      <th>2</th>\n",
       "      <td>2</td>\n",
       "      <td>2016</td>\n",
       "      <td>9.7</td>\n",
       "      <td>7610</td>\n",
       "    </tr>\n",
       "    <tr>\n",
       "      <th>3</th>\n",
       "      <td>3</td>\n",
       "      <td>2015</td>\n",
       "      <td>9.7</td>\n",
       "      <td>26328</td>\n",
       "    </tr>\n",
       "    <tr>\n",
       "      <th>4</th>\n",
       "      <td>4</td>\n",
       "      <td>2013</td>\n",
       "      <td>9.7</td>\n",
       "      <td>61103</td>\n",
       "    </tr>\n",
       "    <tr>\n",
       "      <th>5</th>\n",
       "      <td>5</td>\n",
       "      <td>2021</td>\n",
       "      <td>9.7</td>\n",
       "      <td>1628</td>\n",
       "    </tr>\n",
       "    <tr>\n",
       "      <th>6</th>\n",
       "      <td>6</td>\n",
       "      <td>2018</td>\n",
       "      <td>9.6</td>\n",
       "      <td>26507</td>\n",
       "    </tr>\n",
       "    <tr>\n",
       "      <th>7</th>\n",
       "      <td>7</td>\n",
       "      <td>2019</td>\n",
       "      <td>9.6</td>\n",
       "      <td>1214</td>\n",
       "    </tr>\n",
       "    <tr>\n",
       "      <th>8</th>\n",
       "      <td>8</td>\n",
       "      <td>1998</td>\n",
       "      <td>9.6</td>\n",
       "      <td>9576</td>\n",
       "    </tr>\n",
       "    <tr>\n",
       "      <th>9</th>\n",
       "      <td>9</td>\n",
       "      <td>1998</td>\n",
       "      <td>9.6</td>\n",
       "      <td>11809</td>\n",
       "    </tr>\n",
       "  </tbody>\n",
       "</table>\n",
       "</div>"
      ],
      "text/plain": [
       "   id  year  rating  votes\n",
       "0   0  2022     9.8    601\n",
       "1   1  2018     9.7  36441\n",
       "2   2  2016     9.7   7610\n",
       "3   3  2015     9.7  26328\n",
       "4   4  2013     9.7  61103\n",
       "5   5  2021     9.7   1628\n",
       "6   6  2018     9.6  26507\n",
       "7   7  2019     9.6   1214\n",
       "8   8  1998     9.6   9576\n",
       "9   9  1998     9.6  11809"
      ]
     },
     "execution_count": 113,
     "metadata": {},
     "output_type": "execute_result"
    }
   ],
   "source": [
    "dataframeAngka = dataFrame.select_dtypes(include=[\"int64\",\"float64\"])\n",
    "dataframeAngka.head(10)"
   ]
  },
  {
   "cell_type": "markdown",
   "id": "63b8a77f",
   "metadata": {},
   "source": [
    "#### Simpan dataset menjadi dataset baru dengan syarat atribut hanya bertipe data angka"
   ]
  },
  {
   "cell_type": "code",
   "execution_count": 114,
   "id": "56ea2222",
   "metadata": {},
   "outputs": [],
   "source": [
    "dataframeAngka.to_csv('imdb_video_game_rating_numeric_only.csv')"
   ]
  }
 ],
 "metadata": {
  "kernelspec": {
   "display_name": "Python 3 (ipykernel)",
   "language": "python",
   "name": "python3"
  },
  "language_info": {
   "codemirror_mode": {
    "name": "ipython",
    "version": 3
   },
   "file_extension": ".py",
   "mimetype": "text/x-python",
   "name": "python",
   "nbconvert_exporter": "python",
   "pygments_lexer": "ipython3",
   "version": "3.10.7"
  }
 },
 "nbformat": 4,
 "nbformat_minor": 5
}
